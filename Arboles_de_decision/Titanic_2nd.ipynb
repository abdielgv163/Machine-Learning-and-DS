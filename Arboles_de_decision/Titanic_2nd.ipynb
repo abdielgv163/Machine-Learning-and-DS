{
  "nbformat": 4,
  "nbformat_minor": 0,
  "metadata": {
    "kernelspec": {
      "language": "python",
      "display_name": "Python 3",
      "name": "python3"
    },
    "language_info": {
      "name": "python",
      "version": "3.7.10",
      "mimetype": "text/x-python",
      "codemirror_mode": {
        "name": "ipython",
        "version": 3
      },
      "pygments_lexer": "ipython3",
      "nbconvert_exporter": "python",
      "file_extension": ".py"
    },
    "colab": {
      "name": "titanic-2nd.ipynb",
      "provenance": [],
      "collapsed_sections": []
    }
  },
  "cells": [
    {
      "cell_type": "code",
      "metadata": {
        "_uuid": "8f2839f25d086af736a60e9eeb907d3b93b6e0e5",
        "_cell_guid": "b1076dfc-b9ad-4769-8c92-a6c4dae69d19",
        "execution": {
          "iopub.status.busy": "2021-07-07T01:08:04.567129Z",
          "iopub.execute_input": "2021-07-07T01:08:04.567494Z",
          "iopub.status.idle": "2021-07-07T01:08:04.579639Z",
          "shell.execute_reply.started": "2021-07-07T01:08:04.567468Z",
          "shell.execute_reply": "2021-07-07T01:08:04.577940Z"
        },
        "trusted": true,
        "id": "PbO_-tCFg0jW",
        "outputId": "5f280fb1-836f-4c24-b804-8c324400d150"
      },
      "source": [
        "# This Python 3 environment comes with many helpful analytics libraries installed\n",
        "# It is defined by the kaggle/python Docker image: https://github.com/kaggle/docker-python\n",
        "# For example, here's several helpful packages to load\n",
        "\n",
        "import numpy as np # linear algebra\n",
        "import pandas as pd # data processing, CSV file I/O (e.g. pd.read_csv)\n",
        "\n",
        "# Input data files are available in the read-only \"../input/\" directory\n",
        "# For example, running this (by clicking run or pressing Shift+Enter) will list all files under the input directory\n",
        "\n",
        "import os\n",
        "for dirname, _, filenames in os.walk('/kaggle/input'):\n",
        "    for filename in filenames:\n",
        "        print(os.path.join(dirname, filename))\n",
        "\n",
        "# You can write up to 20GB to the current directory (/kaggle/working/) that gets preserved as output when you create a version using \"Save & Run All\" \n",
        "# You can also write temporary files to /kaggle/temp/, but they won't be saved outside of the current session"
      ],
      "execution_count": null,
      "outputs": [
        {
          "output_type": "stream",
          "text": [
            "/kaggle/input/titanic/train.csv\n",
            "/kaggle/input/titanic/test.csv\n",
            "/kaggle/input/titanic/gender_submission.csv\n"
          ],
          "name": "stdout"
        }
      ]
    },
    {
      "cell_type": "markdown",
      "metadata": {
        "id": "f1bEn_b4g0jX"
      },
      "source": [
        "Dataset available to download on:  [kaggle: Titanic Competition Data](https://www.kaggle.com/c/titanic/data) 💜"
      ]
    },
    {
      "cell_type": "code",
      "metadata": {
        "execution": {
          "iopub.status.busy": "2021-07-07T01:08:05.111189Z",
          "iopub.execute_input": "2021-07-07T01:08:05.111504Z",
          "iopub.status.idle": "2021-07-07T01:08:05.117016Z",
          "shell.execute_reply.started": "2021-07-07T01:08:05.111479Z",
          "shell.execute_reply": "2021-07-07T01:08:05.115752Z"
        },
        "trusted": true,
        "id": "Nih_IqUhg0jY"
      },
      "source": [
        "import matplotlib.pyplot as plt\n",
        "import seaborn as sns\n",
        "from sklearn import preprocessing\n",
        "from sklearn.preprocessing import StandardScaler\n",
        "from sklearn.feature_selection import RFE\n",
        "from sklearn.model_selection import train_test_split\n",
        "from sklearn import tree\n",
        "from sklearn import linear_model"
      ],
      "execution_count": null,
      "outputs": []
    },
    {
      "cell_type": "markdown",
      "metadata": {
        "id": "IMmAIh9Qg0ja"
      },
      "source": [
        "---"
      ]
    },
    {
      "cell_type": "markdown",
      "metadata": {
        "id": "X-CRwaw9g0ja"
      },
      "source": [
        "### By: Abdiel Guerrero 💜"
      ]
    },
    {
      "cell_type": "markdown",
      "metadata": {
        "id": "opzgfsa8g0ja"
      },
      "source": [
        "# Exploratory Data Analysis 🔎"
      ]
    },
    {
      "cell_type": "markdown",
      "metadata": {
        "id": "qOjVKmhGg0jb"
      },
      "source": [
        "## Exploring and plotting 📊"
      ]
    },
    {
      "cell_type": "markdown",
      "metadata": {
        "id": "v-Yjm6o8g0jb"
      },
      "source": [
        "We'll start reading our .csv files and put them in DataFrames to manage to work on Pandas."
      ]
    },
    {
      "cell_type": "code",
      "metadata": {
        "execution": {
          "iopub.status.busy": "2021-07-07T01:08:06.297715Z",
          "iopub.execute_input": "2021-07-07T01:08:06.298009Z",
          "iopub.status.idle": "2021-07-07T01:08:06.314224Z",
          "shell.execute_reply.started": "2021-07-07T01:08:06.297985Z",
          "shell.execute_reply": "2021-07-07T01:08:06.312666Z"
        },
        "trusted": true,
        "id": "JMCs8j5-g0jb",
        "outputId": "7de572b0-7c18-4eab-b57f-75f5878950f6"
      },
      "source": [
        "train = pd.read_csv('/kaggle/input/titanic/train.csv')\n",
        "test = pd.read_csv('/kaggle/input/titanic/test.csv')\n",
        "print(f'Train size: {len(train)}\\nTest Size: {len(test)}')"
      ],
      "execution_count": null,
      "outputs": [
        {
          "output_type": "stream",
          "text": [
            "Train size: 891\n",
            "Test Size: 418\n"
          ],
          "name": "stdout"
        }
      ]
    },
    {
      "cell_type": "code",
      "metadata": {
        "execution": {
          "iopub.status.busy": "2021-07-07T01:08:06.478650Z",
          "iopub.execute_input": "2021-07-07T01:08:06.478990Z",
          "iopub.status.idle": "2021-07-07T01:08:06.483371Z",
          "shell.execute_reply.started": "2021-07-07T01:08:06.478959Z",
          "shell.execute_reply": "2021-07-07T01:08:06.482347Z"
        },
        "trusted": true,
        "id": "ct9Offf8g0jc"
      },
      "source": [
        "train_df = pd.DataFrame(train)\n",
        "test_df = pd.DataFrame(test)"
      ],
      "execution_count": null,
      "outputs": []
    },
    {
      "cell_type": "code",
      "metadata": {
        "execution": {
          "iopub.status.busy": "2021-07-07T01:08:06.665272Z",
          "iopub.execute_input": "2021-07-07T01:08:06.665818Z",
          "iopub.status.idle": "2021-07-07T01:08:06.691281Z",
          "shell.execute_reply.started": "2021-07-07T01:08:06.665788Z",
          "shell.execute_reply": "2021-07-07T01:08:06.690118Z"
        },
        "trusted": true,
        "id": "U7rgrvA3g0jc",
        "outputId": "2a307546-79fc-4fe0-ce10-caddc3247792"
      },
      "source": [
        "train_df.head(10)"
      ],
      "execution_count": null,
      "outputs": [
        {
          "output_type": "execute_result",
          "data": {
            "text/plain": [
              "   PassengerId  Survived  Pclass  \\\n",
              "0            1         0       3   \n",
              "1            2         1       1   \n",
              "2            3         1       3   \n",
              "3            4         1       1   \n",
              "4            5         0       3   \n",
              "5            6         0       3   \n",
              "6            7         0       1   \n",
              "7            8         0       3   \n",
              "8            9         1       3   \n",
              "9           10         1       2   \n",
              "\n",
              "                                                Name     Sex   Age  SibSp  \\\n",
              "0                            Braund, Mr. Owen Harris    male  22.0      1   \n",
              "1  Cumings, Mrs. John Bradley (Florence Briggs Th...  female  38.0      1   \n",
              "2                             Heikkinen, Miss. Laina  female  26.0      0   \n",
              "3       Futrelle, Mrs. Jacques Heath (Lily May Peel)  female  35.0      1   \n",
              "4                           Allen, Mr. William Henry    male  35.0      0   \n",
              "5                                   Moran, Mr. James    male   NaN      0   \n",
              "6                            McCarthy, Mr. Timothy J    male  54.0      0   \n",
              "7                     Palsson, Master. Gosta Leonard    male   2.0      3   \n",
              "8  Johnson, Mrs. Oscar W (Elisabeth Vilhelmina Berg)  female  27.0      0   \n",
              "9                Nasser, Mrs. Nicholas (Adele Achem)  female  14.0      1   \n",
              "\n",
              "   Parch            Ticket     Fare Cabin Embarked  \n",
              "0      0         A/5 21171   7.2500   NaN        S  \n",
              "1      0          PC 17599  71.2833   C85        C  \n",
              "2      0  STON/O2. 3101282   7.9250   NaN        S  \n",
              "3      0            113803  53.1000  C123        S  \n",
              "4      0            373450   8.0500   NaN        S  \n",
              "5      0            330877   8.4583   NaN        Q  \n",
              "6      0             17463  51.8625   E46        S  \n",
              "7      1            349909  21.0750   NaN        S  \n",
              "8      2            347742  11.1333   NaN        S  \n",
              "9      0            237736  30.0708   NaN        C  "
            ],
            "text/html": [
              "<div>\n",
              "<style scoped>\n",
              "    .dataframe tbody tr th:only-of-type {\n",
              "        vertical-align: middle;\n",
              "    }\n",
              "\n",
              "    .dataframe tbody tr th {\n",
              "        vertical-align: top;\n",
              "    }\n",
              "\n",
              "    .dataframe thead th {\n",
              "        text-align: right;\n",
              "    }\n",
              "</style>\n",
              "<table border=\"1\" class=\"dataframe\">\n",
              "  <thead>\n",
              "    <tr style=\"text-align: right;\">\n",
              "      <th></th>\n",
              "      <th>PassengerId</th>\n",
              "      <th>Survived</th>\n",
              "      <th>Pclass</th>\n",
              "      <th>Name</th>\n",
              "      <th>Sex</th>\n",
              "      <th>Age</th>\n",
              "      <th>SibSp</th>\n",
              "      <th>Parch</th>\n",
              "      <th>Ticket</th>\n",
              "      <th>Fare</th>\n",
              "      <th>Cabin</th>\n",
              "      <th>Embarked</th>\n",
              "    </tr>\n",
              "  </thead>\n",
              "  <tbody>\n",
              "    <tr>\n",
              "      <th>0</th>\n",
              "      <td>1</td>\n",
              "      <td>0</td>\n",
              "      <td>3</td>\n",
              "      <td>Braund, Mr. Owen Harris</td>\n",
              "      <td>male</td>\n",
              "      <td>22.0</td>\n",
              "      <td>1</td>\n",
              "      <td>0</td>\n",
              "      <td>A/5 21171</td>\n",
              "      <td>7.2500</td>\n",
              "      <td>NaN</td>\n",
              "      <td>S</td>\n",
              "    </tr>\n",
              "    <tr>\n",
              "      <th>1</th>\n",
              "      <td>2</td>\n",
              "      <td>1</td>\n",
              "      <td>1</td>\n",
              "      <td>Cumings, Mrs. John Bradley (Florence Briggs Th...</td>\n",
              "      <td>female</td>\n",
              "      <td>38.0</td>\n",
              "      <td>1</td>\n",
              "      <td>0</td>\n",
              "      <td>PC 17599</td>\n",
              "      <td>71.2833</td>\n",
              "      <td>C85</td>\n",
              "      <td>C</td>\n",
              "    </tr>\n",
              "    <tr>\n",
              "      <th>2</th>\n",
              "      <td>3</td>\n",
              "      <td>1</td>\n",
              "      <td>3</td>\n",
              "      <td>Heikkinen, Miss. Laina</td>\n",
              "      <td>female</td>\n",
              "      <td>26.0</td>\n",
              "      <td>0</td>\n",
              "      <td>0</td>\n",
              "      <td>STON/O2. 3101282</td>\n",
              "      <td>7.9250</td>\n",
              "      <td>NaN</td>\n",
              "      <td>S</td>\n",
              "    </tr>\n",
              "    <tr>\n",
              "      <th>3</th>\n",
              "      <td>4</td>\n",
              "      <td>1</td>\n",
              "      <td>1</td>\n",
              "      <td>Futrelle, Mrs. Jacques Heath (Lily May Peel)</td>\n",
              "      <td>female</td>\n",
              "      <td>35.0</td>\n",
              "      <td>1</td>\n",
              "      <td>0</td>\n",
              "      <td>113803</td>\n",
              "      <td>53.1000</td>\n",
              "      <td>C123</td>\n",
              "      <td>S</td>\n",
              "    </tr>\n",
              "    <tr>\n",
              "      <th>4</th>\n",
              "      <td>5</td>\n",
              "      <td>0</td>\n",
              "      <td>3</td>\n",
              "      <td>Allen, Mr. William Henry</td>\n",
              "      <td>male</td>\n",
              "      <td>35.0</td>\n",
              "      <td>0</td>\n",
              "      <td>0</td>\n",
              "      <td>373450</td>\n",
              "      <td>8.0500</td>\n",
              "      <td>NaN</td>\n",
              "      <td>S</td>\n",
              "    </tr>\n",
              "    <tr>\n",
              "      <th>5</th>\n",
              "      <td>6</td>\n",
              "      <td>0</td>\n",
              "      <td>3</td>\n",
              "      <td>Moran, Mr. James</td>\n",
              "      <td>male</td>\n",
              "      <td>NaN</td>\n",
              "      <td>0</td>\n",
              "      <td>0</td>\n",
              "      <td>330877</td>\n",
              "      <td>8.4583</td>\n",
              "      <td>NaN</td>\n",
              "      <td>Q</td>\n",
              "    </tr>\n",
              "    <tr>\n",
              "      <th>6</th>\n",
              "      <td>7</td>\n",
              "      <td>0</td>\n",
              "      <td>1</td>\n",
              "      <td>McCarthy, Mr. Timothy J</td>\n",
              "      <td>male</td>\n",
              "      <td>54.0</td>\n",
              "      <td>0</td>\n",
              "      <td>0</td>\n",
              "      <td>17463</td>\n",
              "      <td>51.8625</td>\n",
              "      <td>E46</td>\n",
              "      <td>S</td>\n",
              "    </tr>\n",
              "    <tr>\n",
              "      <th>7</th>\n",
              "      <td>8</td>\n",
              "      <td>0</td>\n",
              "      <td>3</td>\n",
              "      <td>Palsson, Master. Gosta Leonard</td>\n",
              "      <td>male</td>\n",
              "      <td>2.0</td>\n",
              "      <td>3</td>\n",
              "      <td>1</td>\n",
              "      <td>349909</td>\n",
              "      <td>21.0750</td>\n",
              "      <td>NaN</td>\n",
              "      <td>S</td>\n",
              "    </tr>\n",
              "    <tr>\n",
              "      <th>8</th>\n",
              "      <td>9</td>\n",
              "      <td>1</td>\n",
              "      <td>3</td>\n",
              "      <td>Johnson, Mrs. Oscar W (Elisabeth Vilhelmina Berg)</td>\n",
              "      <td>female</td>\n",
              "      <td>27.0</td>\n",
              "      <td>0</td>\n",
              "      <td>2</td>\n",
              "      <td>347742</td>\n",
              "      <td>11.1333</td>\n",
              "      <td>NaN</td>\n",
              "      <td>S</td>\n",
              "    </tr>\n",
              "    <tr>\n",
              "      <th>9</th>\n",
              "      <td>10</td>\n",
              "      <td>1</td>\n",
              "      <td>2</td>\n",
              "      <td>Nasser, Mrs. Nicholas (Adele Achem)</td>\n",
              "      <td>female</td>\n",
              "      <td>14.0</td>\n",
              "      <td>1</td>\n",
              "      <td>0</td>\n",
              "      <td>237736</td>\n",
              "      <td>30.0708</td>\n",
              "      <td>NaN</td>\n",
              "      <td>C</td>\n",
              "    </tr>\n",
              "  </tbody>\n",
              "</table>\n",
              "</div>"
            ]
          },
          "metadata": {
            "tags": []
          },
          "execution_count": 66
        }
      ]
    },
    {
      "cell_type": "code",
      "metadata": {
        "execution": {
          "iopub.status.busy": "2021-07-07T01:08:06.851679Z",
          "iopub.execute_input": "2021-07-07T01:08:06.852033Z",
          "iopub.status.idle": "2021-07-07T01:08:06.869589Z",
          "shell.execute_reply.started": "2021-07-07T01:08:06.852004Z",
          "shell.execute_reply": "2021-07-07T01:08:06.868641Z"
        },
        "trusted": true,
        "id": "wH9KCesdg0jd",
        "outputId": "9484912e-60dc-4550-c794-8e60144a1710"
      },
      "source": [
        "test_df.head(5)"
      ],
      "execution_count": null,
      "outputs": [
        {
          "output_type": "execute_result",
          "data": {
            "text/plain": [
              "   PassengerId  Pclass                                          Name     Sex  \\\n",
              "0          892       3                              Kelly, Mr. James    male   \n",
              "1          893       3              Wilkes, Mrs. James (Ellen Needs)  female   \n",
              "2          894       2                     Myles, Mr. Thomas Francis    male   \n",
              "3          895       3                              Wirz, Mr. Albert    male   \n",
              "4          896       3  Hirvonen, Mrs. Alexander (Helga E Lindqvist)  female   \n",
              "\n",
              "    Age  SibSp  Parch   Ticket     Fare Cabin Embarked  \n",
              "0  34.5      0      0   330911   7.8292   NaN        Q  \n",
              "1  47.0      1      0   363272   7.0000   NaN        S  \n",
              "2  62.0      0      0   240276   9.6875   NaN        Q  \n",
              "3  27.0      0      0   315154   8.6625   NaN        S  \n",
              "4  22.0      1      1  3101298  12.2875   NaN        S  "
            ],
            "text/html": [
              "<div>\n",
              "<style scoped>\n",
              "    .dataframe tbody tr th:only-of-type {\n",
              "        vertical-align: middle;\n",
              "    }\n",
              "\n",
              "    .dataframe tbody tr th {\n",
              "        vertical-align: top;\n",
              "    }\n",
              "\n",
              "    .dataframe thead th {\n",
              "        text-align: right;\n",
              "    }\n",
              "</style>\n",
              "<table border=\"1\" class=\"dataframe\">\n",
              "  <thead>\n",
              "    <tr style=\"text-align: right;\">\n",
              "      <th></th>\n",
              "      <th>PassengerId</th>\n",
              "      <th>Pclass</th>\n",
              "      <th>Name</th>\n",
              "      <th>Sex</th>\n",
              "      <th>Age</th>\n",
              "      <th>SibSp</th>\n",
              "      <th>Parch</th>\n",
              "      <th>Ticket</th>\n",
              "      <th>Fare</th>\n",
              "      <th>Cabin</th>\n",
              "      <th>Embarked</th>\n",
              "    </tr>\n",
              "  </thead>\n",
              "  <tbody>\n",
              "    <tr>\n",
              "      <th>0</th>\n",
              "      <td>892</td>\n",
              "      <td>3</td>\n",
              "      <td>Kelly, Mr. James</td>\n",
              "      <td>male</td>\n",
              "      <td>34.5</td>\n",
              "      <td>0</td>\n",
              "      <td>0</td>\n",
              "      <td>330911</td>\n",
              "      <td>7.8292</td>\n",
              "      <td>NaN</td>\n",
              "      <td>Q</td>\n",
              "    </tr>\n",
              "    <tr>\n",
              "      <th>1</th>\n",
              "      <td>893</td>\n",
              "      <td>3</td>\n",
              "      <td>Wilkes, Mrs. James (Ellen Needs)</td>\n",
              "      <td>female</td>\n",
              "      <td>47.0</td>\n",
              "      <td>1</td>\n",
              "      <td>0</td>\n",
              "      <td>363272</td>\n",
              "      <td>7.0000</td>\n",
              "      <td>NaN</td>\n",
              "      <td>S</td>\n",
              "    </tr>\n",
              "    <tr>\n",
              "      <th>2</th>\n",
              "      <td>894</td>\n",
              "      <td>2</td>\n",
              "      <td>Myles, Mr. Thomas Francis</td>\n",
              "      <td>male</td>\n",
              "      <td>62.0</td>\n",
              "      <td>0</td>\n",
              "      <td>0</td>\n",
              "      <td>240276</td>\n",
              "      <td>9.6875</td>\n",
              "      <td>NaN</td>\n",
              "      <td>Q</td>\n",
              "    </tr>\n",
              "    <tr>\n",
              "      <th>3</th>\n",
              "      <td>895</td>\n",
              "      <td>3</td>\n",
              "      <td>Wirz, Mr. Albert</td>\n",
              "      <td>male</td>\n",
              "      <td>27.0</td>\n",
              "      <td>0</td>\n",
              "      <td>0</td>\n",
              "      <td>315154</td>\n",
              "      <td>8.6625</td>\n",
              "      <td>NaN</td>\n",
              "      <td>S</td>\n",
              "    </tr>\n",
              "    <tr>\n",
              "      <th>4</th>\n",
              "      <td>896</td>\n",
              "      <td>3</td>\n",
              "      <td>Hirvonen, Mrs. Alexander (Helga E Lindqvist)</td>\n",
              "      <td>female</td>\n",
              "      <td>22.0</td>\n",
              "      <td>1</td>\n",
              "      <td>1</td>\n",
              "      <td>3101298</td>\n",
              "      <td>12.2875</td>\n",
              "      <td>NaN</td>\n",
              "      <td>S</td>\n",
              "    </tr>\n",
              "  </tbody>\n",
              "</table>\n",
              "</div>"
            ]
          },
          "metadata": {
            "tags": []
          },
          "execution_count": 67
        }
      ]
    },
    {
      "cell_type": "markdown",
      "metadata": {
        "id": "b8VE4ffRg0jd"
      },
      "source": [
        "Now, let's to check our data's keys (columns) and what the differences between `train_df` and `test_df` are (variable(s) to predict)."
      ]
    },
    {
      "cell_type": "code",
      "metadata": {
        "execution": {
          "iopub.status.busy": "2021-07-07T01:08:07.454429Z",
          "iopub.execute_input": "2021-07-07T01:08:07.454802Z",
          "iopub.status.idle": "2021-07-07T01:08:07.459588Z",
          "shell.execute_reply.started": "2021-07-07T01:08:07.454768Z",
          "shell.execute_reply": "2021-07-07T01:08:07.458442Z"
        },
        "trusted": true,
        "id": "PMSSEY75g0jd"
      },
      "source": [
        "keys_train = sorted(train.keys())\n",
        "keys_test = sorted(test.keys())"
      ],
      "execution_count": null,
      "outputs": []
    },
    {
      "cell_type": "code",
      "metadata": {
        "execution": {
          "iopub.status.busy": "2021-07-07T01:08:07.648117Z",
          "iopub.execute_input": "2021-07-07T01:08:07.648473Z",
          "iopub.status.idle": "2021-07-07T01:08:07.655104Z",
          "shell.execute_reply.started": "2021-07-07T01:08:07.648443Z",
          "shell.execute_reply": "2021-07-07T01:08:07.653732Z"
        },
        "trusted": true,
        "id": "mNHif1x1g0jd",
        "outputId": "f968bdb8-e3e0-425a-c607-524542697d28"
      },
      "source": [
        "uncommon_key = []\n",
        "for key in keys_train:\n",
        "    if not key in keys_test:\n",
        "        uncommon_key.append(key)\n",
        "print(uncommon_key)"
      ],
      "execution_count": null,
      "outputs": [
        {
          "output_type": "stream",
          "text": [
            "['Survived']\n"
          ],
          "name": "stdout"
        }
      ]
    },
    {
      "cell_type": "markdown",
      "metadata": {
        "id": "lvMSpDzhg0je"
      },
      "source": [
        "For the beginning, we'll check our numerical data:"
      ]
    },
    {
      "cell_type": "code",
      "metadata": {
        "execution": {
          "iopub.status.busy": "2021-07-07T01:08:08.004212Z",
          "iopub.execute_input": "2021-07-07T01:08:08.004594Z",
          "iopub.status.idle": "2021-07-07T01:08:08.046813Z",
          "shell.execute_reply.started": "2021-07-07T01:08:08.004562Z",
          "shell.execute_reply": "2021-07-07T01:08:08.045475Z"
        },
        "trusted": true,
        "id": "R4PEDxakg0je",
        "outputId": "4defdfb7-d4e7-4ef8-a941-0cd6ca4b681a"
      },
      "source": [
        "train_df.describe()"
      ],
      "execution_count": null,
      "outputs": [
        {
          "output_type": "execute_result",
          "data": {
            "text/plain": [
              "       PassengerId    Survived      Pclass         Age       SibSp  \\\n",
              "count   891.000000  891.000000  891.000000  714.000000  891.000000   \n",
              "mean    446.000000    0.383838    2.308642   29.699118    0.523008   \n",
              "std     257.353842    0.486592    0.836071   14.526497    1.102743   \n",
              "min       1.000000    0.000000    1.000000    0.420000    0.000000   \n",
              "25%     223.500000    0.000000    2.000000   20.125000    0.000000   \n",
              "50%     446.000000    0.000000    3.000000   28.000000    0.000000   \n",
              "75%     668.500000    1.000000    3.000000   38.000000    1.000000   \n",
              "max     891.000000    1.000000    3.000000   80.000000    8.000000   \n",
              "\n",
              "            Parch        Fare  \n",
              "count  891.000000  891.000000  \n",
              "mean     0.381594   32.204208  \n",
              "std      0.806057   49.693429  \n",
              "min      0.000000    0.000000  \n",
              "25%      0.000000    7.910400  \n",
              "50%      0.000000   14.454200  \n",
              "75%      0.000000   31.000000  \n",
              "max      6.000000  512.329200  "
            ],
            "text/html": [
              "<div>\n",
              "<style scoped>\n",
              "    .dataframe tbody tr th:only-of-type {\n",
              "        vertical-align: middle;\n",
              "    }\n",
              "\n",
              "    .dataframe tbody tr th {\n",
              "        vertical-align: top;\n",
              "    }\n",
              "\n",
              "    .dataframe thead th {\n",
              "        text-align: right;\n",
              "    }\n",
              "</style>\n",
              "<table border=\"1\" class=\"dataframe\">\n",
              "  <thead>\n",
              "    <tr style=\"text-align: right;\">\n",
              "      <th></th>\n",
              "      <th>PassengerId</th>\n",
              "      <th>Survived</th>\n",
              "      <th>Pclass</th>\n",
              "      <th>Age</th>\n",
              "      <th>SibSp</th>\n",
              "      <th>Parch</th>\n",
              "      <th>Fare</th>\n",
              "    </tr>\n",
              "  </thead>\n",
              "  <tbody>\n",
              "    <tr>\n",
              "      <th>count</th>\n",
              "      <td>891.000000</td>\n",
              "      <td>891.000000</td>\n",
              "      <td>891.000000</td>\n",
              "      <td>714.000000</td>\n",
              "      <td>891.000000</td>\n",
              "      <td>891.000000</td>\n",
              "      <td>891.000000</td>\n",
              "    </tr>\n",
              "    <tr>\n",
              "      <th>mean</th>\n",
              "      <td>446.000000</td>\n",
              "      <td>0.383838</td>\n",
              "      <td>2.308642</td>\n",
              "      <td>29.699118</td>\n",
              "      <td>0.523008</td>\n",
              "      <td>0.381594</td>\n",
              "      <td>32.204208</td>\n",
              "    </tr>\n",
              "    <tr>\n",
              "      <th>std</th>\n",
              "      <td>257.353842</td>\n",
              "      <td>0.486592</td>\n",
              "      <td>0.836071</td>\n",
              "      <td>14.526497</td>\n",
              "      <td>1.102743</td>\n",
              "      <td>0.806057</td>\n",
              "      <td>49.693429</td>\n",
              "    </tr>\n",
              "    <tr>\n",
              "      <th>min</th>\n",
              "      <td>1.000000</td>\n",
              "      <td>0.000000</td>\n",
              "      <td>1.000000</td>\n",
              "      <td>0.420000</td>\n",
              "      <td>0.000000</td>\n",
              "      <td>0.000000</td>\n",
              "      <td>0.000000</td>\n",
              "    </tr>\n",
              "    <tr>\n",
              "      <th>25%</th>\n",
              "      <td>223.500000</td>\n",
              "      <td>0.000000</td>\n",
              "      <td>2.000000</td>\n",
              "      <td>20.125000</td>\n",
              "      <td>0.000000</td>\n",
              "      <td>0.000000</td>\n",
              "      <td>7.910400</td>\n",
              "    </tr>\n",
              "    <tr>\n",
              "      <th>50%</th>\n",
              "      <td>446.000000</td>\n",
              "      <td>0.000000</td>\n",
              "      <td>3.000000</td>\n",
              "      <td>28.000000</td>\n",
              "      <td>0.000000</td>\n",
              "      <td>0.000000</td>\n",
              "      <td>14.454200</td>\n",
              "    </tr>\n",
              "    <tr>\n",
              "      <th>75%</th>\n",
              "      <td>668.500000</td>\n",
              "      <td>1.000000</td>\n",
              "      <td>3.000000</td>\n",
              "      <td>38.000000</td>\n",
              "      <td>1.000000</td>\n",
              "      <td>0.000000</td>\n",
              "      <td>31.000000</td>\n",
              "    </tr>\n",
              "    <tr>\n",
              "      <th>max</th>\n",
              "      <td>891.000000</td>\n",
              "      <td>1.000000</td>\n",
              "      <td>3.000000</td>\n",
              "      <td>80.000000</td>\n",
              "      <td>8.000000</td>\n",
              "      <td>6.000000</td>\n",
              "      <td>512.329200</td>\n",
              "    </tr>\n",
              "  </tbody>\n",
              "</table>\n",
              "</div>"
            ]
          },
          "metadata": {
            "tags": []
          },
          "execution_count": 70
        }
      ]
    },
    {
      "cell_type": "markdown",
      "metadata": {
        "id": "RvnqY3MXg0je"
      },
      "source": [
        "We can see in the `count` row that there are some missing values in our `Age` column. In fact, there are 177 missing values (891 - 714); it will be important later and we'll need to do something similar with categorical variables."
      ]
    },
    {
      "cell_type": "markdown",
      "metadata": {
        "id": "_pdUZERsg0je"
      },
      "source": [
        "Now, let's try to visualize our `Survived` data grouped by gender and age:"
      ]
    },
    {
      "cell_type": "code",
      "metadata": {
        "execution": {
          "iopub.status.busy": "2021-07-07T01:08:08.497451Z",
          "iopub.execute_input": "2021-07-07T01:08:08.497784Z",
          "iopub.status.idle": "2021-07-07T01:08:08.507504Z",
          "shell.execute_reply.started": "2021-07-07T01:08:08.497755Z",
          "shell.execute_reply": "2021-07-07T01:08:08.506028Z"
        },
        "trusted": true,
        "id": "QYe_HLt8g0je"
      },
      "source": [
        "# Define a function which create and plot a new DF based on 'Survived' values.\n",
        "def plot_by_surv_died(data, based_on, stacked=True, colors_= ['purple','black']):\n",
        "    \n",
        "    # Obtain survivors and died counts\n",
        "    survive = data[data['Survived']==1][based_on].value_counts()\n",
        "    dead = data[data['Survived']==0][based_on].value_counts()\n",
        "    \n",
        "    # Place these values on a new DF\n",
        "    surv_dea_df = pd.DataFrame([survive, dead])\n",
        "    surv_dea_df.index = ['Survived','Died']\n",
        "    surv_dea_df.plot(kind='bar', stacked=stacked, color=colors_)"
      ],
      "execution_count": null,
      "outputs": []
    },
    {
      "cell_type": "code",
      "metadata": {
        "execution": {
          "iopub.status.busy": "2021-07-07T01:08:08.685392Z",
          "iopub.execute_input": "2021-07-07T01:08:08.685854Z",
          "iopub.status.idle": "2021-07-07T01:08:08.695765Z",
          "shell.execute_reply.started": "2021-07-07T01:08:08.685824Z",
          "shell.execute_reply": "2021-07-07T01:08:08.694766Z"
        },
        "trusted": true,
        "id": "eWf561Nig0jf"
      },
      "source": [
        "survive = train_df[train_df['Survived']==1]['Sex'].value_counts()\n",
        "dead = train_df[train_df['Survived']==0]['Sex'].value_counts()"
      ],
      "execution_count": null,
      "outputs": []
    },
    {
      "cell_type": "code",
      "metadata": {
        "execution": {
          "iopub.status.busy": "2021-07-07T01:08:08.860316Z",
          "iopub.execute_input": "2021-07-07T01:08:08.860668Z",
          "iopub.status.idle": "2021-07-07T01:08:09.029058Z",
          "shell.execute_reply.started": "2021-07-07T01:08:08.860634Z",
          "shell.execute_reply": "2021-07-07T01:08:09.027594Z"
        },
        "trusted": true,
        "id": "Wj517VjWg0jf",
        "outputId": "5133dc48-19e2-49da-a1b6-f48953d30ced"
      },
      "source": [
        "plot_by_surv_died(train_df, 'Sex')"
      ],
      "execution_count": null,
      "outputs": [
        {
          "output_type": "display_data",
          "data": {
            "text/plain": [
              "<Figure size 432x288 with 1 Axes>"
            ],
            "image/png": "[encoded data removed]"
          },
          "metadata": {
            "tags": [],
            "needs_background": "light"
          }
        }
      ]
    },
    {
      "cell_type": "code",
      "metadata": {
        "execution": {
          "iopub.status.busy": "2021-07-07T01:08:09.034627Z",
          "iopub.execute_input": "2021-07-07T01:08:09.034956Z",
          "iopub.status.idle": "2021-07-07T01:08:09.040827Z",
          "shell.execute_reply.started": "2021-07-07T01:08:09.034923Z",
          "shell.execute_reply": "2021-07-07T01:08:09.039314Z"
        },
        "trusted": true,
        "id": "caPv1dPEg0jf",
        "outputId": "cfe58ba6-3550-4f24-b3c7-d4dc44352192"
      },
      "source": [
        "print(f'---> Survive ʕ-ᴥ-ʔ <---\\n\\n{survive}')"
      ],
      "execution_count": null,
      "outputs": [
        {
          "output_type": "stream",
          "text": [
            "---> Survive ʕ-ᴥ-ʔ <---\n",
            "\n",
            "female    233\n",
            "male      109\n",
            "Name: Sex, dtype: int64\n"
          ],
          "name": "stdout"
        }
      ]
    },
    {
      "cell_type": "code",
      "metadata": {
        "execution": {
          "iopub.status.busy": "2021-07-07T01:08:09.196942Z",
          "iopub.execute_input": "2021-07-07T01:08:09.197328Z",
          "iopub.status.idle": "2021-07-07T01:08:09.357581Z",
          "shell.execute_reply.started": "2021-07-07T01:08:09.197297Z",
          "shell.execute_reply": "2021-07-07T01:08:09.356336Z"
        },
        "trusted": true,
        "id": "SaeKbN7Lg0jf",
        "outputId": "0b5da3a1-d249-4e93-f3fc-57c5e2dc81a0"
      },
      "source": [
        "sns.violinplot(x='Sex', y='Age', hue='Survived', data=train_df, split=True, palette='Set1')"
      ],
      "execution_count": null,
      "outputs": [
        {
          "output_type": "execute_result",
          "data": {
            "text/plain": [
              "<AxesSubplot:xlabel='Sex', ylabel='Age'>"
            ]
          },
          "metadata": {
            "tags": []
          },
          "execution_count": 75
        },
        {
          "output_type": "display_data",
          "data": {
            "text/plain": [
              "<Figure size 432x288 with 1 Axes>"
            ],
            "image/png": "[encoded data removed]"
          },
          "metadata": {
            "tags": [],
            "needs_background": "light"
          }
        }
      ]
    },
    {
      "cell_type": "markdown",
      "metadata": {
        "id": "Dw8gGT6xg0jg"
      },
      "source": [
        "It's interesting to see how in men case the difference of surviving probabilities had reduced in base on how old they were, more specifically, men between 20's 35's tended to survive more than older men (40's - 80's). By the other hand, in the women case they survived compararively well on all the age groups."
      ]
    },
    {
      "cell_type": "markdown",
      "metadata": {
        "id": "VJPRhgBEg0jg"
      },
      "source": [
        "Now, why not try to visualice if there ir an corelation between ticket `fare` and probabilities to survive? In this case we could imagine these probabilities are based on their position on the ship or their priority to be rescued."
      ]
    },
    {
      "cell_type": "code",
      "metadata": {
        "execution": {
          "iopub.status.busy": "2021-07-07T01:08:09.751052Z",
          "iopub.execute_input": "2021-07-07T01:08:09.751351Z",
          "iopub.status.idle": "2021-07-07T01:08:10.127534Z",
          "shell.execute_reply.started": "2021-07-07T01:08:09.751326Z",
          "shell.execute_reply": "2021-07-07T01:08:10.126646Z"
        },
        "trusted": true,
        "id": "DJt43po0g0jg",
        "outputId": "7ca19ec9-b2c2-4722-fff1-63a398eb3a6f"
      },
      "source": [
        "figure = plt.figure(figsize=(15,15))\n",
        "plt.hist([train_df[train_df['Survived']==0]['Fare'],\n",
        "          train_df[train_df['Survived']==1]['Fare']],\n",
        "         stacked=True,\n",
        "         color = ['Red','Green'],\n",
        "         bins = 50,\n",
        "         label = ['Died', 'Survived']\n",
        "        )\n",
        "plt.xlabel('Fare')\n",
        "plt.grid()\n",
        "plt.ylabel('# of Passengers')\n",
        "plt.legend()"
      ],
      "execution_count": null,
      "outputs": [
        {
          "output_type": "execute_result",
          "data": {
            "text/plain": [
              "<matplotlib.legend.Legend at 0x7f26d5f90150>"
            ]
          },
          "metadata": {
            "tags": []
          },
          "execution_count": 76
        },
        {
          "output_type": "display_data",
          "data": {
            "text/plain": [
              "<Figure size 1080x1080 with 1 Axes>"
            ],
            "image/png": "[encoded data removed]"
          },
          "metadata": {
            "tags": [],
            "needs_background": "light"
          }
        }
      ]
    },
    {
      "cell_type": "code",
      "metadata": {
        "execution": {
          "iopub.status.busy": "2021-07-07T01:08:10.128494Z",
          "iopub.execute_input": "2021-07-07T01:08:10.128692Z",
          "iopub.status.idle": "2021-07-07T01:08:10.402788Z",
          "shell.execute_reply.started": "2021-07-07T01:08:10.128669Z",
          "shell.execute_reply": "2021-07-07T01:08:10.401793Z"
        },
        "trusted": true,
        "id": "vlmSOItNg0jg",
        "outputId": "2216ac09-67de-48cd-9224-5a6cc9d8cfd6"
      },
      "source": [
        "plot_by_surv_died(train_df, 'Pclass', colors_=['#FFD700','#C0C0C0','#8C7853'])\n",
        "plt.legend(['1st class','2nd class','3rd class'])"
      ],
      "execution_count": null,
      "outputs": [
        {
          "output_type": "execute_result",
          "data": {
            "text/plain": [
              "<matplotlib.legend.Legend at 0x7f26d5ffa910>"
            ]
          },
          "metadata": {
            "tags": []
          },
          "execution_count": 77
        },
        {
          "output_type": "display_data",
          "data": {
            "text/plain": [
              "<Figure size 432x288 with 1 Axes>"
            ],
            "image/png": "[encoded data removed]"
          },
          "metadata": {
            "tags": [],
            "needs_background": "light"
          }
        }
      ]
    },
    {
      "cell_type": "markdown",
      "metadata": {
        "id": "XK7-_L1Dg0jh"
      },
      "source": [
        "Despite of there was a very little part of expensive tickets passengers, the most part of them survived. By the other hand, more than half people who bought the cheapest tickets died. Were there a kind of priority of rescue based on their social status, or it's more kind of a statistical mean based on the quantity of passengers in each fare kind?"
      ]
    },
    {
      "cell_type": "markdown",
      "metadata": {
        "id": "shu2b2pyg0jh"
      },
      "source": [
        "## Removing missing values and unnecessary data 🔨"
      ]
    },
    {
      "cell_type": "markdown",
      "metadata": {
        "id": "31DtydJHg0jh"
      },
      "source": [
        "Next, we'll return to check our missing data before to remove unnecessary variables."
      ]
    },
    {
      "cell_type": "code",
      "metadata": {
        "execution": {
          "iopub.status.busy": "2021-07-07T01:08:10.675159Z",
          "iopub.execute_input": "2021-07-07T01:08:10.675489Z",
          "iopub.status.idle": "2021-07-07T01:08:10.692479Z",
          "shell.execute_reply.started": "2021-07-07T01:08:10.675466Z",
          "shell.execute_reply": "2021-07-07T01:08:10.690796Z"
        },
        "trusted": true,
        "id": "EPLK5qzeg0jh",
        "outputId": "2c25523d-1055-4f47-cfab-8739fcb3d056"
      },
      "source": [
        "train_df.info()"
      ],
      "execution_count": null,
      "outputs": [
        {
          "output_type": "stream",
          "text": [
            "<class 'pandas.core.frame.DataFrame'>\n",
            "RangeIndex: 891 entries, 0 to 890\n",
            "Data columns (total 12 columns):\n",
            " #   Column       Non-Null Count  Dtype  \n",
            "---  ------       --------------  -----  \n",
            " 0   PassengerId  891 non-null    int64  \n",
            " 1   Survived     891 non-null    int64  \n",
            " 2   Pclass       891 non-null    int64  \n",
            " 3   Name         891 non-null    object \n",
            " 4   Sex          891 non-null    object \n",
            " 5   Age          714 non-null    float64\n",
            " 6   SibSp        891 non-null    int64  \n",
            " 7   Parch        891 non-null    int64  \n",
            " 8   Ticket       891 non-null    object \n",
            " 9   Fare         891 non-null    float64\n",
            " 10  Cabin        204 non-null    object \n",
            " 11  Embarked     889 non-null    object \n",
            "dtypes: float64(2), int64(5), object(5)\n",
            "memory usage: 83.7+ KB\n"
          ],
          "name": "stdout"
        }
      ]
    },
    {
      "cell_type": "code",
      "metadata": {
        "execution": {
          "iopub.status.busy": "2021-07-07T01:08:10.882380Z",
          "iopub.execute_input": "2021-07-07T01:08:10.882715Z",
          "iopub.status.idle": "2021-07-07T01:08:10.900266Z",
          "shell.execute_reply.started": "2021-07-07T01:08:10.882686Z",
          "shell.execute_reply": "2021-07-07T01:08:10.898632Z"
        },
        "trusted": true,
        "id": "yCOiprQRg0ji",
        "outputId": "d73cac4b-ef27-4ecd-cd4b-c178706540ab"
      },
      "source": [
        "print(train_df.isnull())"
      ],
      "execution_count": null,
      "outputs": [
        {
          "output_type": "stream",
          "text": [
            "     PassengerId  Survived  Pclass   Name    Sex    Age  SibSp  Parch  Ticket  \\\n",
            "0          False     False   False  False  False  False  False  False   False   \n",
            "1          False     False   False  False  False  False  False  False   False   \n",
            "2          False     False   False  False  False  False  False  False   False   \n",
            "3          False     False   False  False  False  False  False  False   False   \n",
            "4          False     False   False  False  False  False  False  False   False   \n",
            "..           ...       ...     ...    ...    ...    ...    ...    ...     ...   \n",
            "886        False     False   False  False  False  False  False  False   False   \n",
            "887        False     False   False  False  False  False  False  False   False   \n",
            "888        False     False   False  False  False   True  False  False   False   \n",
            "889        False     False   False  False  False  False  False  False   False   \n",
            "890        False     False   False  False  False  False  False  False   False   \n",
            "\n",
            "      Fare  Cabin  Embarked  \n",
            "0    False   True     False  \n",
            "1    False  False     False  \n",
            "2    False   True     False  \n",
            "3    False  False     False  \n",
            "4    False   True     False  \n",
            "..     ...    ...       ...  \n",
            "886  False   True     False  \n",
            "887  False  False     False  \n",
            "888  False   True     False  \n",
            "889  False  False     False  \n",
            "890  False   True     False  \n",
            "\n",
            "[891 rows x 12 columns]\n"
          ],
          "name": "stdout"
        }
      ]
    },
    {
      "cell_type": "markdown",
      "metadata": {
        "id": "q4axttpOg0ji"
      },
      "source": [
        "Print which columns have null (Zero or NaN) values."
      ]
    },
    {
      "cell_type": "code",
      "metadata": {
        "execution": {
          "iopub.status.busy": "2021-07-07T01:08:11.243183Z",
          "iopub.execute_input": "2021-07-07T01:08:11.243500Z",
          "iopub.status.idle": "2021-07-07T01:08:11.252887Z",
          "shell.execute_reply.started": "2021-07-07T01:08:11.243468Z",
          "shell.execute_reply": "2021-07-07T01:08:11.251456Z"
        },
        "trusted": true,
        "id": "p6MuVi4bg0ji",
        "outputId": "a471671d-b322-4fd5-e28b-c0bc0ea12dac"
      },
      "source": [
        "print(train_df.isnull().any())"
      ],
      "execution_count": null,
      "outputs": [
        {
          "output_type": "stream",
          "text": [
            "PassengerId    False\n",
            "Survived       False\n",
            "Pclass         False\n",
            "Name           False\n",
            "Sex            False\n",
            "Age             True\n",
            "SibSp          False\n",
            "Parch          False\n",
            "Ticket         False\n",
            "Fare           False\n",
            "Cabin           True\n",
            "Embarked        True\n",
            "dtype: bool\n"
          ],
          "name": "stdout"
        }
      ]
    },
    {
      "cell_type": "code",
      "metadata": {
        "execution": {
          "iopub.status.busy": "2021-07-07T01:08:11.419702Z",
          "iopub.execute_input": "2021-07-07T01:08:11.419980Z",
          "iopub.status.idle": "2021-07-07T01:08:11.424201Z",
          "shell.execute_reply.started": "2021-07-07T01:08:11.419957Z",
          "shell.execute_reply": "2021-07-07T01:08:11.423368Z"
        },
        "trusted": true,
        "id": "JBtG9N2Sg0ji"
      },
      "source": [
        "def plotting_missing_data(dataset):\n",
        "    # Conf\n",
        "    fig, ax = plt.subplots(figsize=(5,5))\n",
        "    plt.title('Missing data')\n",
        "    # Hearmap without color bar\n",
        "    sns.heatmap(dataset.isnull(), cbar=False, \n",
        "                cmap=sns.color_palette(\"rocket_r\", as_cmap=True) )"
      ],
      "execution_count": null,
      "outputs": []
    },
    {
      "cell_type": "markdown",
      "metadata": {
        "id": "WEzHygAqg0jj"
      },
      "source": [
        "We have some missing values on `Age`, `Cabin` and `Embarked`. Let's to visualize it:"
      ]
    },
    {
      "cell_type": "code",
      "metadata": {
        "execution": {
          "iopub.status.busy": "2021-07-07T01:08:11.773369Z",
          "iopub.execute_input": "2021-07-07T01:08:11.773661Z",
          "iopub.status.idle": "2021-07-07T01:08:12.118113Z",
          "shell.execute_reply.started": "2021-07-07T01:08:11.773637Z",
          "shell.execute_reply": "2021-07-07T01:08:12.117103Z"
        },
        "trusted": true,
        "id": "MPGCLjMUg0jj",
        "outputId": "e5350688-a458-46a8-9736-f1c810bc1378"
      },
      "source": [
        "plotting_missing_data(train_df)"
      ],
      "execution_count": null,
      "outputs": [
        {
          "output_type": "display_data",
          "data": {
            "text/plain": [
              "<Figure size 360x360 with 1 Axes>"
            ],
            "image/png": "[encoded data removed]"
          },
          "metadata": {
            "tags": [],
            "needs_background": "light"
          }
        }
      ]
    },
    {
      "cell_type": "markdown",
      "metadata": {
        "id": "9R1dowa6g0jj"
      },
      "source": [
        "but first of all, let's try to convert our values `male`, `female` into 0, 1."
      ]
    },
    {
      "cell_type": "markdown",
      "metadata": {
        "id": "zg-Rfh66g0jj"
      },
      "source": [
        "We will use class `sklearn.preprocessing.LabelEncoder` which encode target labels with value between 0 and n_classes-1; in this case, between $0$ and $1$."
      ]
    },
    {
      "cell_type": "code",
      "metadata": {
        "execution": {
          "iopub.status.busy": "2021-07-07T01:08:12.350040Z",
          "iopub.execute_input": "2021-07-07T01:08:12.350409Z",
          "iopub.status.idle": "2021-07-07T01:08:12.371635Z",
          "shell.execute_reply.started": "2021-07-07T01:08:12.350379Z",
          "shell.execute_reply": "2021-07-07T01:08:12.370203Z"
        },
        "trusted": true,
        "id": "fAgJVlv-g0jj",
        "outputId": "c829b7bf-9c16-4e27-fbfb-c3a2c1a9a9b3"
      },
      "source": [
        "label_encoder = preprocessing.LabelEncoder()\n",
        "encoder_sex = label_encoder.fit_transform(train_df['Sex'])\n",
        "train_df['Sex'] = encoder_sex\n",
        "train_df.head(5)"
      ],
      "execution_count": null,
      "outputs": [
        {
          "output_type": "execute_result",
          "data": {
            "text/plain": [
              "   PassengerId  Survived  Pclass  \\\n",
              "0            1         0       3   \n",
              "1            2         1       1   \n",
              "2            3         1       3   \n",
              "3            4         1       1   \n",
              "4            5         0       3   \n",
              "\n",
              "                                                Name  Sex   Age  SibSp  Parch  \\\n",
              "0                            Braund, Mr. Owen Harris    1  22.0      1      0   \n",
              "1  Cumings, Mrs. John Bradley (Florence Briggs Th...    0  38.0      1      0   \n",
              "2                             Heikkinen, Miss. Laina    0  26.0      0      0   \n",
              "3       Futrelle, Mrs. Jacques Heath (Lily May Peel)    0  35.0      1      0   \n",
              "4                           Allen, Mr. William Henry    1  35.0      0      0   \n",
              "\n",
              "             Ticket     Fare Cabin Embarked  \n",
              "0         A/5 21171   7.2500   NaN        S  \n",
              "1          PC 17599  71.2833   C85        C  \n",
              "2  STON/O2. 3101282   7.9250   NaN        S  \n",
              "3            113803  53.1000  C123        S  \n",
              "4            373450   8.0500   NaN        S  "
            ],
            "text/html": [
              "<div>\n",
              "<style scoped>\n",
              "    .dataframe tbody tr th:only-of-type {\n",
              "        vertical-align: middle;\n",
              "    }\n",
              "\n",
              "    .dataframe tbody tr th {\n",
              "        vertical-align: top;\n",
              "    }\n",
              "\n",
              "    .dataframe thead th {\n",
              "        text-align: right;\n",
              "    }\n",
              "</style>\n",
              "<table border=\"1\" class=\"dataframe\">\n",
              "  <thead>\n",
              "    <tr style=\"text-align: right;\">\n",
              "      <th></th>\n",
              "      <th>PassengerId</th>\n",
              "      <th>Survived</th>\n",
              "      <th>Pclass</th>\n",
              "      <th>Name</th>\n",
              "      <th>Sex</th>\n",
              "      <th>Age</th>\n",
              "      <th>SibSp</th>\n",
              "      <th>Parch</th>\n",
              "      <th>Ticket</th>\n",
              "      <th>Fare</th>\n",
              "      <th>Cabin</th>\n",
              "      <th>Embarked</th>\n",
              "    </tr>\n",
              "  </thead>\n",
              "  <tbody>\n",
              "    <tr>\n",
              "      <th>0</th>\n",
              "      <td>1</td>\n",
              "      <td>0</td>\n",
              "      <td>3</td>\n",
              "      <td>Braund, Mr. Owen Harris</td>\n",
              "      <td>1</td>\n",
              "      <td>22.0</td>\n",
              "      <td>1</td>\n",
              "      <td>0</td>\n",
              "      <td>A/5 21171</td>\n",
              "      <td>7.2500</td>\n",
              "      <td>NaN</td>\n",
              "      <td>S</td>\n",
              "    </tr>\n",
              "    <tr>\n",
              "      <th>1</th>\n",
              "      <td>2</td>\n",
              "      <td>1</td>\n",
              "      <td>1</td>\n",
              "      <td>Cumings, Mrs. John Bradley (Florence Briggs Th...</td>\n",
              "      <td>0</td>\n",
              "      <td>38.0</td>\n",
              "      <td>1</td>\n",
              "      <td>0</td>\n",
              "      <td>PC 17599</td>\n",
              "      <td>71.2833</td>\n",
              "      <td>C85</td>\n",
              "      <td>C</td>\n",
              "    </tr>\n",
              "    <tr>\n",
              "      <th>2</th>\n",
              "      <td>3</td>\n",
              "      <td>1</td>\n",
              "      <td>3</td>\n",
              "      <td>Heikkinen, Miss. Laina</td>\n",
              "      <td>0</td>\n",
              "      <td>26.0</td>\n",
              "      <td>0</td>\n",
              "      <td>0</td>\n",
              "      <td>STON/O2. 3101282</td>\n",
              "      <td>7.9250</td>\n",
              "      <td>NaN</td>\n",
              "      <td>S</td>\n",
              "    </tr>\n",
              "    <tr>\n",
              "      <th>3</th>\n",
              "      <td>4</td>\n",
              "      <td>1</td>\n",
              "      <td>1</td>\n",
              "      <td>Futrelle, Mrs. Jacques Heath (Lily May Peel)</td>\n",
              "      <td>0</td>\n",
              "      <td>35.0</td>\n",
              "      <td>1</td>\n",
              "      <td>0</td>\n",
              "      <td>113803</td>\n",
              "      <td>53.1000</td>\n",
              "      <td>C123</td>\n",
              "      <td>S</td>\n",
              "    </tr>\n",
              "    <tr>\n",
              "      <th>4</th>\n",
              "      <td>5</td>\n",
              "      <td>0</td>\n",
              "      <td>3</td>\n",
              "      <td>Allen, Mr. William Henry</td>\n",
              "      <td>1</td>\n",
              "      <td>35.0</td>\n",
              "      <td>0</td>\n",
              "      <td>0</td>\n",
              "      <td>373450</td>\n",
              "      <td>8.0500</td>\n",
              "      <td>NaN</td>\n",
              "      <td>S</td>\n",
              "    </tr>\n",
              "  </tbody>\n",
              "</table>\n",
              "</div>"
            ]
          },
          "metadata": {
            "tags": []
          },
          "execution_count": 83
        }
      ]
    },
    {
      "cell_type": "code",
      "metadata": {
        "execution": {
          "iopub.status.busy": "2021-07-07T01:08:12.540427Z",
          "iopub.execute_input": "2021-07-07T01:08:12.540797Z",
          "iopub.status.idle": "2021-07-07T01:08:12.560523Z",
          "shell.execute_reply.started": "2021-07-07T01:08:12.540765Z",
          "shell.execute_reply": "2021-07-07T01:08:12.559551Z"
        },
        "trusted": true,
        "id": "av6gcwT7g0jk",
        "outputId": "f2730e07-74cd-4b4a-9deb-05fa4ebfddf4"
      },
      "source": [
        "label_encoder_test= preprocessing.LabelEncoder()\n",
        "encoder_sex_test = label_encoder_test.fit_transform(test_df['Sex'])\n",
        "test_df['Sex'] = encoder_sex_test\n",
        "test_df.head(5)"
      ],
      "execution_count": null,
      "outputs": [
        {
          "output_type": "execute_result",
          "data": {
            "text/plain": [
              "   PassengerId  Pclass                                          Name  Sex  \\\n",
              "0          892       3                              Kelly, Mr. James    1   \n",
              "1          893       3              Wilkes, Mrs. James (Ellen Needs)    0   \n",
              "2          894       2                     Myles, Mr. Thomas Francis    1   \n",
              "3          895       3                              Wirz, Mr. Albert    1   \n",
              "4          896       3  Hirvonen, Mrs. Alexander (Helga E Lindqvist)    0   \n",
              "\n",
              "    Age  SibSp  Parch   Ticket     Fare Cabin Embarked  \n",
              "0  34.5      0      0   330911   7.8292   NaN        Q  \n",
              "1  47.0      1      0   363272   7.0000   NaN        S  \n",
              "2  62.0      0      0   240276   9.6875   NaN        Q  \n",
              "3  27.0      0      0   315154   8.6625   NaN        S  \n",
              "4  22.0      1      1  3101298  12.2875   NaN        S  "
            ],
            "text/html": [
              "<div>\n",
              "<style scoped>\n",
              "    .dataframe tbody tr th:only-of-type {\n",
              "        vertical-align: middle;\n",
              "    }\n",
              "\n",
              "    .dataframe tbody tr th {\n",
              "        vertical-align: top;\n",
              "    }\n",
              "\n",
              "    .dataframe thead th {\n",
              "        text-align: right;\n",
              "    }\n",
              "</style>\n",
              "<table border=\"1\" class=\"dataframe\">\n",
              "  <thead>\n",
              "    <tr style=\"text-align: right;\">\n",
              "      <th></th>\n",
              "      <th>PassengerId</th>\n",
              "      <th>Pclass</th>\n",
              "      <th>Name</th>\n",
              "      <th>Sex</th>\n",
              "      <th>Age</th>\n",
              "      <th>SibSp</th>\n",
              "      <th>Parch</th>\n",
              "      <th>Ticket</th>\n",
              "      <th>Fare</th>\n",
              "      <th>Cabin</th>\n",
              "      <th>Embarked</th>\n",
              "    </tr>\n",
              "  </thead>\n",
              "  <tbody>\n",
              "    <tr>\n",
              "      <th>0</th>\n",
              "      <td>892</td>\n",
              "      <td>3</td>\n",
              "      <td>Kelly, Mr. James</td>\n",
              "      <td>1</td>\n",
              "      <td>34.5</td>\n",
              "      <td>0</td>\n",
              "      <td>0</td>\n",
              "      <td>330911</td>\n",
              "      <td>7.8292</td>\n",
              "      <td>NaN</td>\n",
              "      <td>Q</td>\n",
              "    </tr>\n",
              "    <tr>\n",
              "      <th>1</th>\n",
              "      <td>893</td>\n",
              "      <td>3</td>\n",
              "      <td>Wilkes, Mrs. James (Ellen Needs)</td>\n",
              "      <td>0</td>\n",
              "      <td>47.0</td>\n",
              "      <td>1</td>\n",
              "      <td>0</td>\n",
              "      <td>363272</td>\n",
              "      <td>7.0000</td>\n",
              "      <td>NaN</td>\n",
              "      <td>S</td>\n",
              "    </tr>\n",
              "    <tr>\n",
              "      <th>2</th>\n",
              "      <td>894</td>\n",
              "      <td>2</td>\n",
              "      <td>Myles, Mr. Thomas Francis</td>\n",
              "      <td>1</td>\n",
              "      <td>62.0</td>\n",
              "      <td>0</td>\n",
              "      <td>0</td>\n",
              "      <td>240276</td>\n",
              "      <td>9.6875</td>\n",
              "      <td>NaN</td>\n",
              "      <td>Q</td>\n",
              "    </tr>\n",
              "    <tr>\n",
              "      <th>3</th>\n",
              "      <td>895</td>\n",
              "      <td>3</td>\n",
              "      <td>Wirz, Mr. Albert</td>\n",
              "      <td>1</td>\n",
              "      <td>27.0</td>\n",
              "      <td>0</td>\n",
              "      <td>0</td>\n",
              "      <td>315154</td>\n",
              "      <td>8.6625</td>\n",
              "      <td>NaN</td>\n",
              "      <td>S</td>\n",
              "    </tr>\n",
              "    <tr>\n",
              "      <th>4</th>\n",
              "      <td>896</td>\n",
              "      <td>3</td>\n",
              "      <td>Hirvonen, Mrs. Alexander (Helga E Lindqvist)</td>\n",
              "      <td>0</td>\n",
              "      <td>22.0</td>\n",
              "      <td>1</td>\n",
              "      <td>1</td>\n",
              "      <td>3101298</td>\n",
              "      <td>12.2875</td>\n",
              "      <td>NaN</td>\n",
              "      <td>S</td>\n",
              "    </tr>\n",
              "  </tbody>\n",
              "</table>\n",
              "</div>"
            ]
          },
          "metadata": {
            "tags": []
          },
          "execution_count": 84
        }
      ]
    },
    {
      "cell_type": "markdown",
      "metadata": {
        "id": "oFBWoVhNg0jk"
      },
      "source": [
        "In this case we have, `men` =1 and `female` = 0."
      ]
    },
    {
      "cell_type": "markdown",
      "metadata": {
        "id": "aqUYaNppg0jk"
      },
      "source": [
        "Now it's time to clean out null values. We will start with our numerical data, we could replace them with mean values."
      ]
    },
    {
      "cell_type": "code",
      "metadata": {
        "execution": {
          "iopub.status.busy": "2021-07-07T01:08:13.088497Z",
          "iopub.execute_input": "2021-07-07T01:08:13.088992Z",
          "iopub.status.idle": "2021-07-07T01:08:13.098945Z",
          "shell.execute_reply.started": "2021-07-07T01:08:13.088950Z",
          "shell.execute_reply": "2021-07-07T01:08:13.097679Z"
        },
        "trusted": true,
        "id": "lm2nMcLBg0jk",
        "outputId": "ed98896e-498c-42d6-c554-51881829b6d5"
      },
      "source": [
        "train['Age'] = train['Age'].fillna(train['Age'].median())\n",
        "print(train_df.isnull().any())"
      ],
      "execution_count": null,
      "outputs": [
        {
          "output_type": "stream",
          "text": [
            "PassengerId    False\n",
            "Survived       False\n",
            "Pclass         False\n",
            "Name           False\n",
            "Sex            False\n",
            "Age            False\n",
            "SibSp          False\n",
            "Parch          False\n",
            "Ticket         False\n",
            "Fare           False\n",
            "Cabin           True\n",
            "Embarked        True\n",
            "dtype: bool\n"
          ],
          "name": "stdout"
        }
      ]
    },
    {
      "cell_type": "code",
      "metadata": {
        "execution": {
          "iopub.status.busy": "2021-07-07T01:08:13.299641Z",
          "iopub.execute_input": "2021-07-07T01:08:13.300118Z",
          "iopub.status.idle": "2021-07-07T01:08:13.647871Z",
          "shell.execute_reply.started": "2021-07-07T01:08:13.300080Z",
          "shell.execute_reply": "2021-07-07T01:08:13.647205Z"
        },
        "trusted": true,
        "id": "nAzmMApBg0jk",
        "outputId": "1a0ce45b-cc06-4dc3-c6af-f7fc726ed1e3"
      },
      "source": [
        "plotting_missing_data(train_df)"
      ],
      "execution_count": null,
      "outputs": [
        {
          "output_type": "display_data",
          "data": {
            "text/plain": [
              "<Figure size 360x360 with 1 Axes>"
            ],
            "image/png": "[encoded data removed]"
          },
          "metadata": {
            "tags": [],
            "needs_background": "light"
          }
        }
      ]
    },
    {
      "cell_type": "markdown",
      "metadata": {
        "id": "RmFYmS3Hg0jl"
      },
      "source": [
        "Then, let's do something similar with categorical data (`Cabin` and `Embarked`). We'll start with `Embarked` because there are very few non values:"
      ]
    },
    {
      "cell_type": "code",
      "metadata": {
        "execution": {
          "iopub.status.busy": "2021-07-07T01:08:13.687330Z",
          "iopub.execute_input": "2021-07-07T01:08:13.687619Z",
          "iopub.status.idle": "2021-07-07T01:08:13.695111Z",
          "shell.execute_reply.started": "2021-07-07T01:08:13.687595Z",
          "shell.execute_reply": "2021-07-07T01:08:13.693785Z"
        },
        "trusted": true,
        "id": "i7Jni8bgg0jl",
        "outputId": "83ded896-d6dc-48e1-caef-46cb9d0cbcac"
      },
      "source": [
        "train_df['Embarked'].isnull().sum()"
      ],
      "execution_count": null,
      "outputs": [
        {
          "output_type": "execute_result",
          "data": {
            "text/plain": [
              "2"
            ]
          },
          "metadata": {
            "tags": []
          },
          "execution_count": 87
        }
      ]
    },
    {
      "cell_type": "markdown",
      "metadata": {
        "id": "SOLQpdM6g0jl"
      },
      "source": [
        "There are only 2 non values, so, we'll fill there with a 'S' value:"
      ]
    },
    {
      "cell_type": "code",
      "metadata": {
        "execution": {
          "iopub.status.busy": "2021-07-07T01:08:14.070789Z",
          "iopub.execute_input": "2021-07-07T01:08:14.071172Z",
          "iopub.status.idle": "2021-07-07T01:08:14.074798Z",
          "shell.execute_reply.started": "2021-07-07T01:08:14.071147Z",
          "shell.execute_reply": "2021-07-07T01:08:14.074315Z"
        },
        "trusted": true,
        "id": "t_TKgNT-g0jl"
      },
      "source": [
        "train_df['Embarked'] = train_df['Embarked'].fillna('S')"
      ],
      "execution_count": null,
      "outputs": []
    },
    {
      "cell_type": "code",
      "metadata": {
        "execution": {
          "iopub.status.busy": "2021-07-07T01:08:14.245372Z",
          "iopub.execute_input": "2021-07-07T01:08:14.245964Z",
          "iopub.status.idle": "2021-07-07T01:08:14.591685Z",
          "shell.execute_reply.started": "2021-07-07T01:08:14.245936Z",
          "shell.execute_reply": "2021-07-07T01:08:14.590454Z"
        },
        "trusted": true,
        "id": "8RyMaaoVg0jl",
        "outputId": "9f15a713-03da-4c9a-b7d3-8748d83ab828"
      },
      "source": [
        "plotting_missing_data(train_df)"
      ],
      "execution_count": null,
      "outputs": [
        {
          "output_type": "display_data",
          "data": {
            "text/plain": [
              "<Figure size 360x360 with 1 Axes>"
            ],
            "image/png": "[encoded data removed]"
          },
          "metadata": {
            "tags": [],
            "needs_background": "light"
          }
        }
      ]
    },
    {
      "cell_type": "markdown",
      "metadata": {
        "id": "O12Fq8Y9g0jm"
      },
      "source": [
        "The last one, is our Cabin column. In this case we have a lot of missing values so, trying to not change our data, we will replace the missing cabbing with letter U referring to `Unknown`."
      ]
    },
    {
      "cell_type": "code",
      "metadata": {
        "execution": {
          "iopub.status.busy": "2021-07-07T01:08:14.610085Z",
          "iopub.execute_input": "2021-07-07T01:08:14.610453Z",
          "iopub.status.idle": "2021-07-07T01:08:14.615542Z",
          "shell.execute_reply.started": "2021-07-07T01:08:14.610423Z",
          "shell.execute_reply": "2021-07-07T01:08:14.614727Z"
        },
        "trusted": true,
        "id": "XwkE7nW-g0jm"
      },
      "source": [
        "train_df['Cabin'] = train_df['Cabin'].fillna('U')"
      ],
      "execution_count": null,
      "outputs": []
    },
    {
      "cell_type": "code",
      "metadata": {
        "execution": {
          "iopub.status.busy": "2021-07-07T01:08:14.820101Z",
          "iopub.execute_input": "2021-07-07T01:08:14.820724Z",
          "iopub.status.idle": "2021-07-07T01:08:15.169952Z",
          "shell.execute_reply.started": "2021-07-07T01:08:14.820692Z",
          "shell.execute_reply": "2021-07-07T01:08:15.169082Z"
        },
        "trusted": true,
        "id": "h446Nvlig0jm",
        "outputId": "960e96d6-011f-463f-af52-aa189fac3d7f"
      },
      "source": [
        "plotting_missing_data(train_df)"
      ],
      "execution_count": null,
      "outputs": [
        {
          "output_type": "display_data",
          "data": {
            "text/plain": [
              "<Figure size 360x360 with 1 Axes>"
            ],
            "image/png": "[encoded data removed]"
          },
          "metadata": {
            "tags": [],
            "needs_background": "light"
          }
        }
      ]
    },
    {
      "cell_type": "markdown",
      "metadata": {
        "id": "XYfr13DPg0jm"
      },
      "source": [
        "#### The same process in test data:"
      ]
    },
    {
      "cell_type": "code",
      "metadata": {
        "execution": {
          "iopub.status.busy": "2021-07-07T01:08:15.192550Z",
          "iopub.execute_input": "2021-07-07T01:08:15.193130Z",
          "iopub.status.idle": "2021-07-07T01:08:15.202614Z",
          "shell.execute_reply.started": "2021-07-07T01:08:15.193091Z",
          "shell.execute_reply": "2021-07-07T01:08:15.201316Z"
        },
        "trusted": true,
        "id": "J9G1YHGAg0jm",
        "outputId": "f33a583e-f2da-49ad-b6a1-61d1404f5f29"
      },
      "source": [
        "print(test_df.isnull().any())"
      ],
      "execution_count": null,
      "outputs": [
        {
          "output_type": "stream",
          "text": [
            "PassengerId    False\n",
            "Pclass         False\n",
            "Name           False\n",
            "Sex            False\n",
            "Age             True\n",
            "SibSp          False\n",
            "Parch          False\n",
            "Ticket         False\n",
            "Fare            True\n",
            "Cabin           True\n",
            "Embarked       False\n",
            "dtype: bool\n"
          ],
          "name": "stdout"
        }
      ]
    },
    {
      "cell_type": "code",
      "metadata": {
        "execution": {
          "iopub.status.busy": "2021-07-07T01:08:15.385792Z",
          "iopub.execute_input": "2021-07-07T01:08:15.386140Z",
          "iopub.status.idle": "2021-07-07T01:08:15.639491Z",
          "shell.execute_reply.started": "2021-07-07T01:08:15.386111Z",
          "shell.execute_reply": "2021-07-07T01:08:15.638093Z"
        },
        "trusted": true,
        "id": "zk7Ggl_ug0jm",
        "outputId": "586452f1-db37-4a48-a00c-b9b5bc4d97f7"
      },
      "source": [
        "plotting_missing_data(test_df)"
      ],
      "execution_count": null,
      "outputs": [
        {
          "output_type": "display_data",
          "data": {
            "text/plain": [
              "<Figure size 360x360 with 1 Axes>"
            ],
            "image/png": "[encoded data removed]"
          },
          "metadata": {
            "tags": [],
            "needs_background": "light"
          }
        }
      ]
    },
    {
      "cell_type": "code",
      "metadata": {
        "execution": {
          "iopub.status.busy": "2021-07-07T01:08:15.641266Z",
          "iopub.execute_input": "2021-07-07T01:08:15.641585Z",
          "iopub.status.idle": "2021-07-07T01:08:15.647379Z",
          "shell.execute_reply.started": "2021-07-07T01:08:15.641560Z",
          "shell.execute_reply": "2021-07-07T01:08:15.645689Z"
        },
        "trusted": true,
        "id": "-wOQrrLLg0jn"
      },
      "source": [
        "test_df['Age'] = test_df['Age'].fillna(test_df['Age'].median())"
      ],
      "execution_count": null,
      "outputs": []
    },
    {
      "cell_type": "code",
      "metadata": {
        "execution": {
          "iopub.status.busy": "2021-07-07T01:08:15.774817Z",
          "iopub.execute_input": "2021-07-07T01:08:15.775102Z",
          "iopub.status.idle": "2021-07-07T01:08:15.784723Z",
          "shell.execute_reply.started": "2021-07-07T01:08:15.775079Z",
          "shell.execute_reply": "2021-07-07T01:08:15.782730Z"
        },
        "trusted": true,
        "id": "VAagvqcNg0jn"
      },
      "source": [
        "test_df['Fare'] = test_df['Fare'].fillna(test_df['Fare'].median())"
      ],
      "execution_count": null,
      "outputs": []
    },
    {
      "cell_type": "code",
      "metadata": {
        "execution": {
          "iopub.status.busy": "2021-07-07T01:08:15.966120Z",
          "iopub.execute_input": "2021-07-07T01:08:15.966476Z",
          "iopub.status.idle": "2021-07-07T01:08:15.974838Z",
          "shell.execute_reply.started": "2021-07-07T01:08:15.966451Z",
          "shell.execute_reply": "2021-07-07T01:08:15.973814Z"
        },
        "trusted": true,
        "id": "olNFesKMg0jn"
      },
      "source": [
        "test_df['Cabin'] = test_df['Cabin'].fillna('U')"
      ],
      "execution_count": null,
      "outputs": []
    },
    {
      "cell_type": "code",
      "metadata": {
        "execution": {
          "iopub.status.busy": "2021-07-07T01:08:16.177223Z",
          "iopub.execute_input": "2021-07-07T01:08:16.177543Z",
          "iopub.status.idle": "2021-07-07T01:08:16.439220Z",
          "shell.execute_reply.started": "2021-07-07T01:08:16.177519Z",
          "shell.execute_reply": "2021-07-07T01:08:16.438065Z"
        },
        "trusted": true,
        "id": "l0ob0LVqg0jn",
        "outputId": "ed5e32e5-b915-4413-bb3e-0518d114322b"
      },
      "source": [
        "plotting_missing_data(test_df)"
      ],
      "execution_count": null,
      "outputs": [
        {
          "output_type": "display_data",
          "data": {
            "text/plain": [
              "<Figure size 360x360 with 1 Axes>"
            ],
            "image/png": "[encoded data removed]"
          },
          "metadata": {
            "tags": [],
            "needs_background": "light"
          }
        }
      ]
    },
    {
      "cell_type": "markdown",
      "metadata": {
        "execution": {
          "iopub.status.busy": "2021-07-06T22:32:50.356353Z",
          "iopub.execute_input": "2021-07-06T22:32:50.356945Z",
          "iopub.status.idle": "2021-07-06T22:32:50.364Z",
          "shell.execute_reply.started": "2021-07-06T22:32:50.356909Z",
          "shell.execute_reply": "2021-07-06T22:32:50.362462Z"
        },
        "id": "Kf-wrVMxg0jn"
      },
      "source": [
        "---"
      ]
    },
    {
      "cell_type": "markdown",
      "metadata": {
        "id": "9CopDRzYg0jn"
      },
      "source": [
        "## Processing data ⚙"
      ]
    },
    {
      "cell_type": "code",
      "metadata": {
        "execution": {
          "iopub.status.busy": "2021-07-07T01:08:16.761699Z",
          "iopub.execute_input": "2021-07-07T01:08:16.761994Z",
          "iopub.status.idle": "2021-07-07T01:08:16.784297Z",
          "shell.execute_reply.started": "2021-07-07T01:08:16.761970Z",
          "shell.execute_reply": "2021-07-07T01:08:16.783774Z"
        },
        "trusted": true,
        "id": "X__skeEug0jo",
        "outputId": "9b957de9-179b-408f-a0da-ade018abf86a"
      },
      "source": [
        "train_df"
      ],
      "execution_count": null,
      "outputs": [
        {
          "output_type": "execute_result",
          "data": {
            "text/plain": [
              "     PassengerId  Survived  Pclass  \\\n",
              "0              1         0       3   \n",
              "1              2         1       1   \n",
              "2              3         1       3   \n",
              "3              4         1       1   \n",
              "4              5         0       3   \n",
              "..           ...       ...     ...   \n",
              "886          887         0       2   \n",
              "887          888         1       1   \n",
              "888          889         0       3   \n",
              "889          890         1       1   \n",
              "890          891         0       3   \n",
              "\n",
              "                                                  Name  Sex   Age  SibSp  \\\n",
              "0                              Braund, Mr. Owen Harris    1  22.0      1   \n",
              "1    Cumings, Mrs. John Bradley (Florence Briggs Th...    0  38.0      1   \n",
              "2                               Heikkinen, Miss. Laina    0  26.0      0   \n",
              "3         Futrelle, Mrs. Jacques Heath (Lily May Peel)    0  35.0      1   \n",
              "4                             Allen, Mr. William Henry    1  35.0      0   \n",
              "..                                                 ...  ...   ...    ...   \n",
              "886                              Montvila, Rev. Juozas    1  27.0      0   \n",
              "887                       Graham, Miss. Margaret Edith    0  19.0      0   \n",
              "888           Johnston, Miss. Catherine Helen \"Carrie\"    0  28.0      1   \n",
              "889                              Behr, Mr. Karl Howell    1  26.0      0   \n",
              "890                                Dooley, Mr. Patrick    1  32.0      0   \n",
              "\n",
              "     Parch            Ticket     Fare Cabin Embarked  \n",
              "0        0         A/5 21171   7.2500     U        S  \n",
              "1        0          PC 17599  71.2833   C85        C  \n",
              "2        0  STON/O2. 3101282   7.9250     U        S  \n",
              "3        0            113803  53.1000  C123        S  \n",
              "4        0            373450   8.0500     U        S  \n",
              "..     ...               ...      ...   ...      ...  \n",
              "886      0            211536  13.0000     U        S  \n",
              "887      0            112053  30.0000   B42        S  \n",
              "888      2        W./C. 6607  23.4500     U        S  \n",
              "889      0            111369  30.0000  C148        C  \n",
              "890      0            370376   7.7500     U        Q  \n",
              "\n",
              "[891 rows x 12 columns]"
            ],
            "text/html": [
              "<div>\n",
              "<style scoped>\n",
              "    .dataframe tbody tr th:only-of-type {\n",
              "        vertical-align: middle;\n",
              "    }\n",
              "\n",
              "    .dataframe tbody tr th {\n",
              "        vertical-align: top;\n",
              "    }\n",
              "\n",
              "    .dataframe thead th {\n",
              "        text-align: right;\n",
              "    }\n",
              "</style>\n",
              "<table border=\"1\" class=\"dataframe\">\n",
              "  <thead>\n",
              "    <tr style=\"text-align: right;\">\n",
              "      <th></th>\n",
              "      <th>PassengerId</th>\n",
              "      <th>Survived</th>\n",
              "      <th>Pclass</th>\n",
              "      <th>Name</th>\n",
              "      <th>Sex</th>\n",
              "      <th>Age</th>\n",
              "      <th>SibSp</th>\n",
              "      <th>Parch</th>\n",
              "      <th>Ticket</th>\n",
              "      <th>Fare</th>\n",
              "      <th>Cabin</th>\n",
              "      <th>Embarked</th>\n",
              "    </tr>\n",
              "  </thead>\n",
              "  <tbody>\n",
              "    <tr>\n",
              "      <th>0</th>\n",
              "      <td>1</td>\n",
              "      <td>0</td>\n",
              "      <td>3</td>\n",
              "      <td>Braund, Mr. Owen Harris</td>\n",
              "      <td>1</td>\n",
              "      <td>22.0</td>\n",
              "      <td>1</td>\n",
              "      <td>0</td>\n",
              "      <td>A/5 21171</td>\n",
              "      <td>7.2500</td>\n",
              "      <td>U</td>\n",
              "      <td>S</td>\n",
              "    </tr>\n",
              "    <tr>\n",
              "      <th>1</th>\n",
              "      <td>2</td>\n",
              "      <td>1</td>\n",
              "      <td>1</td>\n",
              "      <td>Cumings, Mrs. John Bradley (Florence Briggs Th...</td>\n",
              "      <td>0</td>\n",
              "      <td>38.0</td>\n",
              "      <td>1</td>\n",
              "      <td>0</td>\n",
              "      <td>PC 17599</td>\n",
              "      <td>71.2833</td>\n",
              "      <td>C85</td>\n",
              "      <td>C</td>\n",
              "    </tr>\n",
              "    <tr>\n",
              "      <th>2</th>\n",
              "      <td>3</td>\n",
              "      <td>1</td>\n",
              "      <td>3</td>\n",
              "      <td>Heikkinen, Miss. Laina</td>\n",
              "      <td>0</td>\n",
              "      <td>26.0</td>\n",
              "      <td>0</td>\n",
              "      <td>0</td>\n",
              "      <td>STON/O2. 3101282</td>\n",
              "      <td>7.9250</td>\n",
              "      <td>U</td>\n",
              "      <td>S</td>\n",
              "    </tr>\n",
              "    <tr>\n",
              "      <th>3</th>\n",
              "      <td>4</td>\n",
              "      <td>1</td>\n",
              "      <td>1</td>\n",
              "      <td>Futrelle, Mrs. Jacques Heath (Lily May Peel)</td>\n",
              "      <td>0</td>\n",
              "      <td>35.0</td>\n",
              "      <td>1</td>\n",
              "      <td>0</td>\n",
              "      <td>113803</td>\n",
              "      <td>53.1000</td>\n",
              "      <td>C123</td>\n",
              "      <td>S</td>\n",
              "    </tr>\n",
              "    <tr>\n",
              "      <th>4</th>\n",
              "      <td>5</td>\n",
              "      <td>0</td>\n",
              "      <td>3</td>\n",
              "      <td>Allen, Mr. William Henry</td>\n",
              "      <td>1</td>\n",
              "      <td>35.0</td>\n",
              "      <td>0</td>\n",
              "      <td>0</td>\n",
              "      <td>373450</td>\n",
              "      <td>8.0500</td>\n",
              "      <td>U</td>\n",
              "      <td>S</td>\n",
              "    </tr>\n",
              "    <tr>\n",
              "      <th>...</th>\n",
              "      <td>...</td>\n",
              "      <td>...</td>\n",
              "      <td>...</td>\n",
              "      <td>...</td>\n",
              "      <td>...</td>\n",
              "      <td>...</td>\n",
              "      <td>...</td>\n",
              "      <td>...</td>\n",
              "      <td>...</td>\n",
              "      <td>...</td>\n",
              "      <td>...</td>\n",
              "      <td>...</td>\n",
              "    </tr>\n",
              "    <tr>\n",
              "      <th>886</th>\n",
              "      <td>887</td>\n",
              "      <td>0</td>\n",
              "      <td>2</td>\n",
              "      <td>Montvila, Rev. Juozas</td>\n",
              "      <td>1</td>\n",
              "      <td>27.0</td>\n",
              "      <td>0</td>\n",
              "      <td>0</td>\n",
              "      <td>211536</td>\n",
              "      <td>13.0000</td>\n",
              "      <td>U</td>\n",
              "      <td>S</td>\n",
              "    </tr>\n",
              "    <tr>\n",
              "      <th>887</th>\n",
              "      <td>888</td>\n",
              "      <td>1</td>\n",
              "      <td>1</td>\n",
              "      <td>Graham, Miss. Margaret Edith</td>\n",
              "      <td>0</td>\n",
              "      <td>19.0</td>\n",
              "      <td>0</td>\n",
              "      <td>0</td>\n",
              "      <td>112053</td>\n",
              "      <td>30.0000</td>\n",
              "      <td>B42</td>\n",
              "      <td>S</td>\n",
              "    </tr>\n",
              "    <tr>\n",
              "      <th>888</th>\n",
              "      <td>889</td>\n",
              "      <td>0</td>\n",
              "      <td>3</td>\n",
              "      <td>Johnston, Miss. Catherine Helen \"Carrie\"</td>\n",
              "      <td>0</td>\n",
              "      <td>28.0</td>\n",
              "      <td>1</td>\n",
              "      <td>2</td>\n",
              "      <td>W./C. 6607</td>\n",
              "      <td>23.4500</td>\n",
              "      <td>U</td>\n",
              "      <td>S</td>\n",
              "    </tr>\n",
              "    <tr>\n",
              "      <th>889</th>\n",
              "      <td>890</td>\n",
              "      <td>1</td>\n",
              "      <td>1</td>\n",
              "      <td>Behr, Mr. Karl Howell</td>\n",
              "      <td>1</td>\n",
              "      <td>26.0</td>\n",
              "      <td>0</td>\n",
              "      <td>0</td>\n",
              "      <td>111369</td>\n",
              "      <td>30.0000</td>\n",
              "      <td>C148</td>\n",
              "      <td>C</td>\n",
              "    </tr>\n",
              "    <tr>\n",
              "      <th>890</th>\n",
              "      <td>891</td>\n",
              "      <td>0</td>\n",
              "      <td>3</td>\n",
              "      <td>Dooley, Mr. Patrick</td>\n",
              "      <td>1</td>\n",
              "      <td>32.0</td>\n",
              "      <td>0</td>\n",
              "      <td>0</td>\n",
              "      <td>370376</td>\n",
              "      <td>7.7500</td>\n",
              "      <td>U</td>\n",
              "      <td>Q</td>\n",
              "    </tr>\n",
              "  </tbody>\n",
              "</table>\n",
              "<p>891 rows × 12 columns</p>\n",
              "</div>"
            ]
          },
          "metadata": {
            "tags": []
          },
          "execution_count": 98
        }
      ]
    },
    {
      "cell_type": "code",
      "metadata": {
        "execution": {
          "iopub.status.busy": "2021-07-07T01:08:17.005962Z",
          "iopub.execute_input": "2021-07-07T01:08:17.006416Z",
          "iopub.status.idle": "2021-07-07T01:08:17.028876Z",
          "shell.execute_reply.started": "2021-07-07T01:08:17.006390Z",
          "shell.execute_reply": "2021-07-07T01:08:17.028019Z"
        },
        "trusted": true,
        "id": "ohbONm8Yg0jo",
        "outputId": "a300622c-b359-4b4a-bf03-91ec771e0808"
      },
      "source": [
        "test_df"
      ],
      "execution_count": null,
      "outputs": [
        {
          "output_type": "execute_result",
          "data": {
            "text/plain": [
              "     PassengerId  Pclass                                          Name  Sex  \\\n",
              "0            892       3                              Kelly, Mr. James    1   \n",
              "1            893       3              Wilkes, Mrs. James (Ellen Needs)    0   \n",
              "2            894       2                     Myles, Mr. Thomas Francis    1   \n",
              "3            895       3                              Wirz, Mr. Albert    1   \n",
              "4            896       3  Hirvonen, Mrs. Alexander (Helga E Lindqvist)    0   \n",
              "..           ...     ...                                           ...  ...   \n",
              "413         1305       3                            Spector, Mr. Woolf    1   \n",
              "414         1306       1                  Oliva y Ocana, Dona. Fermina    0   \n",
              "415         1307       3                  Saether, Mr. Simon Sivertsen    1   \n",
              "416         1308       3                           Ware, Mr. Frederick    1   \n",
              "417         1309       3                      Peter, Master. Michael J    1   \n",
              "\n",
              "      Age  SibSp  Parch              Ticket      Fare Cabin Embarked  \n",
              "0    34.5      0      0              330911    7.8292     U        Q  \n",
              "1    47.0      1      0              363272    7.0000     U        S  \n",
              "2    62.0      0      0              240276    9.6875     U        Q  \n",
              "3    27.0      0      0              315154    8.6625     U        S  \n",
              "4    22.0      1      1             3101298   12.2875     U        S  \n",
              "..    ...    ...    ...                 ...       ...   ...      ...  \n",
              "413  27.0      0      0           A.5. 3236    8.0500     U        S  \n",
              "414  39.0      0      0            PC 17758  108.9000  C105        C  \n",
              "415  38.5      0      0  SOTON/O.Q. 3101262    7.2500     U        S  \n",
              "416  27.0      0      0              359309    8.0500     U        S  \n",
              "417  27.0      1      1                2668   22.3583     U        C  \n",
              "\n",
              "[418 rows x 11 columns]"
            ],
            "text/html": [
              "<div>\n",
              "<style scoped>\n",
              "    .dataframe tbody tr th:only-of-type {\n",
              "        vertical-align: middle;\n",
              "    }\n",
              "\n",
              "    .dataframe tbody tr th {\n",
              "        vertical-align: top;\n",
              "    }\n",
              "\n",
              "    .dataframe thead th {\n",
              "        text-align: right;\n",
              "    }\n",
              "</style>\n",
              "<table border=\"1\" class=\"dataframe\">\n",
              "  <thead>\n",
              "    <tr style=\"text-align: right;\">\n",
              "      <th></th>\n",
              "      <th>PassengerId</th>\n",
              "      <th>Pclass</th>\n",
              "      <th>Name</th>\n",
              "      <th>Sex</th>\n",
              "      <th>Age</th>\n",
              "      <th>SibSp</th>\n",
              "      <th>Parch</th>\n",
              "      <th>Ticket</th>\n",
              "      <th>Fare</th>\n",
              "      <th>Cabin</th>\n",
              "      <th>Embarked</th>\n",
              "    </tr>\n",
              "  </thead>\n",
              "  <tbody>\n",
              "    <tr>\n",
              "      <th>0</th>\n",
              "      <td>892</td>\n",
              "      <td>3</td>\n",
              "      <td>Kelly, Mr. James</td>\n",
              "      <td>1</td>\n",
              "      <td>34.5</td>\n",
              "      <td>0</td>\n",
              "      <td>0</td>\n",
              "      <td>330911</td>\n",
              "      <td>7.8292</td>\n",
              "      <td>U</td>\n",
              "      <td>Q</td>\n",
              "    </tr>\n",
              "    <tr>\n",
              "      <th>1</th>\n",
              "      <td>893</td>\n",
              "      <td>3</td>\n",
              "      <td>Wilkes, Mrs. James (Ellen Needs)</td>\n",
              "      <td>0</td>\n",
              "      <td>47.0</td>\n",
              "      <td>1</td>\n",
              "      <td>0</td>\n",
              "      <td>363272</td>\n",
              "      <td>7.0000</td>\n",
              "      <td>U</td>\n",
              "      <td>S</td>\n",
              "    </tr>\n",
              "    <tr>\n",
              "      <th>2</th>\n",
              "      <td>894</td>\n",
              "      <td>2</td>\n",
              "      <td>Myles, Mr. Thomas Francis</td>\n",
              "      <td>1</td>\n",
              "      <td>62.0</td>\n",
              "      <td>0</td>\n",
              "      <td>0</td>\n",
              "      <td>240276</td>\n",
              "      <td>9.6875</td>\n",
              "      <td>U</td>\n",
              "      <td>Q</td>\n",
              "    </tr>\n",
              "    <tr>\n",
              "      <th>3</th>\n",
              "      <td>895</td>\n",
              "      <td>3</td>\n",
              "      <td>Wirz, Mr. Albert</td>\n",
              "      <td>1</td>\n",
              "      <td>27.0</td>\n",
              "      <td>0</td>\n",
              "      <td>0</td>\n",
              "      <td>315154</td>\n",
              "      <td>8.6625</td>\n",
              "      <td>U</td>\n",
              "      <td>S</td>\n",
              "    </tr>\n",
              "    <tr>\n",
              "      <th>4</th>\n",
              "      <td>896</td>\n",
              "      <td>3</td>\n",
              "      <td>Hirvonen, Mrs. Alexander (Helga E Lindqvist)</td>\n",
              "      <td>0</td>\n",
              "      <td>22.0</td>\n",
              "      <td>1</td>\n",
              "      <td>1</td>\n",
              "      <td>3101298</td>\n",
              "      <td>12.2875</td>\n",
              "      <td>U</td>\n",
              "      <td>S</td>\n",
              "    </tr>\n",
              "    <tr>\n",
              "      <th>...</th>\n",
              "      <td>...</td>\n",
              "      <td>...</td>\n",
              "      <td>...</td>\n",
              "      <td>...</td>\n",
              "      <td>...</td>\n",
              "      <td>...</td>\n",
              "      <td>...</td>\n",
              "      <td>...</td>\n",
              "      <td>...</td>\n",
              "      <td>...</td>\n",
              "      <td>...</td>\n",
              "    </tr>\n",
              "    <tr>\n",
              "      <th>413</th>\n",
              "      <td>1305</td>\n",
              "      <td>3</td>\n",
              "      <td>Spector, Mr. Woolf</td>\n",
              "      <td>1</td>\n",
              "      <td>27.0</td>\n",
              "      <td>0</td>\n",
              "      <td>0</td>\n",
              "      <td>A.5. 3236</td>\n",
              "      <td>8.0500</td>\n",
              "      <td>U</td>\n",
              "      <td>S</td>\n",
              "    </tr>\n",
              "    <tr>\n",
              "      <th>414</th>\n",
              "      <td>1306</td>\n",
              "      <td>1</td>\n",
              "      <td>Oliva y Ocana, Dona. Fermina</td>\n",
              "      <td>0</td>\n",
              "      <td>39.0</td>\n",
              "      <td>0</td>\n",
              "      <td>0</td>\n",
              "      <td>PC 17758</td>\n",
              "      <td>108.9000</td>\n",
              "      <td>C105</td>\n",
              "      <td>C</td>\n",
              "    </tr>\n",
              "    <tr>\n",
              "      <th>415</th>\n",
              "      <td>1307</td>\n",
              "      <td>3</td>\n",
              "      <td>Saether, Mr. Simon Sivertsen</td>\n",
              "      <td>1</td>\n",
              "      <td>38.5</td>\n",
              "      <td>0</td>\n",
              "      <td>0</td>\n",
              "      <td>SOTON/O.Q. 3101262</td>\n",
              "      <td>7.2500</td>\n",
              "      <td>U</td>\n",
              "      <td>S</td>\n",
              "    </tr>\n",
              "    <tr>\n",
              "      <th>416</th>\n",
              "      <td>1308</td>\n",
              "      <td>3</td>\n",
              "      <td>Ware, Mr. Frederick</td>\n",
              "      <td>1</td>\n",
              "      <td>27.0</td>\n",
              "      <td>0</td>\n",
              "      <td>0</td>\n",
              "      <td>359309</td>\n",
              "      <td>8.0500</td>\n",
              "      <td>U</td>\n",
              "      <td>S</td>\n",
              "    </tr>\n",
              "    <tr>\n",
              "      <th>417</th>\n",
              "      <td>1309</td>\n",
              "      <td>3</td>\n",
              "      <td>Peter, Master. Michael J</td>\n",
              "      <td>1</td>\n",
              "      <td>27.0</td>\n",
              "      <td>1</td>\n",
              "      <td>1</td>\n",
              "      <td>2668</td>\n",
              "      <td>22.3583</td>\n",
              "      <td>U</td>\n",
              "      <td>C</td>\n",
              "    </tr>\n",
              "  </tbody>\n",
              "</table>\n",
              "<p>418 rows × 11 columns</p>\n",
              "</div>"
            ]
          },
          "metadata": {
            "tags": []
          },
          "execution_count": 99
        }
      ]
    },
    {
      "cell_type": "markdown",
      "metadata": {
        "id": "B4TGoHoLg0jo"
      },
      "source": [
        "In this part we'll separate our numerical from categorical data with the purpose of after that, evaluate and  remove unnecessary parameters.\n",
        "\n",
        "Before that, we can obviate some parameters that we are sure that cannot affect our predictions, like name, ticket number, etc and the variable that we want to predict `Survived` to can compare later our model fit:"
      ]
    },
    {
      "cell_type": "code",
      "metadata": {
        "execution": {
          "iopub.status.busy": "2021-07-07T01:08:17.425954Z",
          "iopub.execute_input": "2021-07-07T01:08:17.426260Z",
          "iopub.status.idle": "2021-07-07T01:08:17.434162Z",
          "shell.execute_reply.started": "2021-07-07T01:08:17.426211Z",
          "shell.execute_reply": "2021-07-07T01:08:17.433345Z"
        },
        "trusted": true,
        "id": "OAnn_CHOg0jo"
      },
      "source": [
        "train_predictors = train_df.drop(['Name', 'PassengerId', 'Survived', 'Cabin', 'Ticket'], axis = 1) #Axis = 1 refers to Columns\n",
        "test_predictors =  test_df.drop(['Name', 'PassengerId', 'Cabin', 'Ticket'], axis = 1)"
      ],
      "execution_count": null,
      "outputs": []
    },
    {
      "cell_type": "code",
      "metadata": {
        "execution": {
          "iopub.status.busy": "2021-07-07T01:08:17.643599Z",
          "iopub.execute_input": "2021-07-07T01:08:17.643914Z",
          "iopub.status.idle": "2021-07-07T01:08:17.656067Z",
          "shell.execute_reply.started": "2021-07-07T01:08:17.643880Z",
          "shell.execute_reply": "2021-07-07T01:08:17.654787Z"
        },
        "trusted": true,
        "id": "aAkDp_6pg0jo",
        "outputId": "5cb533d7-46f5-4862-954e-d154e70b609a"
      },
      "source": [
        "categorical = [i for i in train_predictors.columns if\n",
        "               train_predictors[i].nunique() and\n",
        "               train_predictors[i].dtype == 'object']\n",
        "\n",
        "\n",
        "categorical2 = [i for i in test_predictors.columns if\n",
        "               test_predictors[i].nunique() and\n",
        "               test_predictors[i].dtype == 'object']\n",
        "categorical"
      ],
      "execution_count": null,
      "outputs": [
        {
          "output_type": "execute_result",
          "data": {
            "text/plain": [
              "['Embarked']"
            ]
          },
          "metadata": {
            "tags": []
          },
          "execution_count": 101
        }
      ]
    },
    {
      "cell_type": "code",
      "metadata": {
        "execution": {
          "iopub.status.busy": "2021-07-07T01:08:17.831468Z",
          "iopub.execute_input": "2021-07-07T01:08:17.831748Z",
          "iopub.status.idle": "2021-07-07T01:08:17.836650Z",
          "shell.execute_reply.started": "2021-07-07T01:08:17.831724Z",
          "shell.execute_reply": "2021-07-07T01:08:17.835679Z"
        },
        "trusted": true,
        "id": "dB_REb-xg0jp",
        "outputId": "41e6863f-7108-4e5b-e932-f237e69c7f6d"
      },
      "source": [
        "categorical2"
      ],
      "execution_count": null,
      "outputs": [
        {
          "output_type": "execute_result",
          "data": {
            "text/plain": [
              "['Embarked']"
            ]
          },
          "metadata": {
            "tags": []
          },
          "execution_count": 102
        }
      ]
    },
    {
      "cell_type": "code",
      "metadata": {
        "execution": {
          "iopub.status.busy": "2021-07-07T01:08:18.032139Z",
          "iopub.execute_input": "2021-07-07T01:08:18.032554Z",
          "iopub.status.idle": "2021-07-07T01:08:18.038836Z",
          "shell.execute_reply.started": "2021-07-07T01:08:18.032530Z",
          "shell.execute_reply": "2021-07-07T01:08:18.037764Z"
        },
        "trusted": true,
        "id": "7Bp-Nk9fg0jp",
        "outputId": "a01a32ae-30f4-41d7-e090-8c4d27025de9"
      },
      "source": [
        "numerical = [i for i in train_predictors.columns if\n",
        "             train_predictors[i].dtype in ['int64','float64']\n",
        "            ]\n",
        "numerical"
      ],
      "execution_count": null,
      "outputs": [
        {
          "output_type": "execute_result",
          "data": {
            "text/plain": [
              "['Pclass', 'Sex', 'Age', 'SibSp', 'Parch', 'Fare']"
            ]
          },
          "metadata": {
            "tags": []
          },
          "execution_count": 103
        }
      ]
    },
    {
      "cell_type": "markdown",
      "metadata": {
        "id": "xRsqDsZKg0jp"
      },
      "source": [
        "Then, we need to decompose our categorical variable into numeric using `.get_dummies()`, which convert categorical variable into dummy/indicator variables."
      ]
    },
    {
      "cell_type": "code",
      "metadata": {
        "execution": {
          "iopub.status.busy": "2021-07-07T01:08:18.448115Z",
          "iopub.execute_input": "2021-07-07T01:08:18.448502Z",
          "iopub.status.idle": "2021-07-07T01:08:18.472391Z",
          "shell.execute_reply.started": "2021-07-07T01:08:18.448471Z",
          "shell.execute_reply": "2021-07-07T01:08:18.470845Z"
        },
        "trusted": true,
        "id": "iDxjrKJ3g0jp",
        "outputId": "b5670415-1c1e-4886-9f95-47e19664b42f"
      },
      "source": [
        "dummy_encoded_train_predictors = pd.get_dummies(train_predictors)\n",
        "dummy_encoded_train_predictors"
      ],
      "execution_count": null,
      "outputs": [
        {
          "output_type": "execute_result",
          "data": {
            "text/plain": [
              "     Pclass  Sex   Age  SibSp  Parch     Fare  Embarked_C  Embarked_Q  \\\n",
              "0         3    1  22.0      1      0   7.2500           0           0   \n",
              "1         1    0  38.0      1      0  71.2833           1           0   \n",
              "2         3    0  26.0      0      0   7.9250           0           0   \n",
              "3         1    0  35.0      1      0  53.1000           0           0   \n",
              "4         3    1  35.0      0      0   8.0500           0           0   \n",
              "..      ...  ...   ...    ...    ...      ...         ...         ...   \n",
              "886       2    1  27.0      0      0  13.0000           0           0   \n",
              "887       1    0  19.0      0      0  30.0000           0           0   \n",
              "888       3    0  28.0      1      2  23.4500           0           0   \n",
              "889       1    1  26.0      0      0  30.0000           1           0   \n",
              "890       3    1  32.0      0      0   7.7500           0           1   \n",
              "\n",
              "     Embarked_S  \n",
              "0             1  \n",
              "1             0  \n",
              "2             1  \n",
              "3             1  \n",
              "4             1  \n",
              "..          ...  \n",
              "886           1  \n",
              "887           1  \n",
              "888           1  \n",
              "889           0  \n",
              "890           0  \n",
              "\n",
              "[891 rows x 9 columns]"
            ],
            "text/html": [
              "<div>\n",
              "<style scoped>\n",
              "    .dataframe tbody tr th:only-of-type {\n",
              "        vertical-align: middle;\n",
              "    }\n",
              "\n",
              "    .dataframe tbody tr th {\n",
              "        vertical-align: top;\n",
              "    }\n",
              "\n",
              "    .dataframe thead th {\n",
              "        text-align: right;\n",
              "    }\n",
              "</style>\n",
              "<table border=\"1\" class=\"dataframe\">\n",
              "  <thead>\n",
              "    <tr style=\"text-align: right;\">\n",
              "      <th></th>\n",
              "      <th>Pclass</th>\n",
              "      <th>Sex</th>\n",
              "      <th>Age</th>\n",
              "      <th>SibSp</th>\n",
              "      <th>Parch</th>\n",
              "      <th>Fare</th>\n",
              "      <th>Embarked_C</th>\n",
              "      <th>Embarked_Q</th>\n",
              "      <th>Embarked_S</th>\n",
              "    </tr>\n",
              "  </thead>\n",
              "  <tbody>\n",
              "    <tr>\n",
              "      <th>0</th>\n",
              "      <td>3</td>\n",
              "      <td>1</td>\n",
              "      <td>22.0</td>\n",
              "      <td>1</td>\n",
              "      <td>0</td>\n",
              "      <td>7.2500</td>\n",
              "      <td>0</td>\n",
              "      <td>0</td>\n",
              "      <td>1</td>\n",
              "    </tr>\n",
              "    <tr>\n",
              "      <th>1</th>\n",
              "      <td>1</td>\n",
              "      <td>0</td>\n",
              "      <td>38.0</td>\n",
              "      <td>1</td>\n",
              "      <td>0</td>\n",
              "      <td>71.2833</td>\n",
              "      <td>1</td>\n",
              "      <td>0</td>\n",
              "      <td>0</td>\n",
              "    </tr>\n",
              "    <tr>\n",
              "      <th>2</th>\n",
              "      <td>3</td>\n",
              "      <td>0</td>\n",
              "      <td>26.0</td>\n",
              "      <td>0</td>\n",
              "      <td>0</td>\n",
              "      <td>7.9250</td>\n",
              "      <td>0</td>\n",
              "      <td>0</td>\n",
              "      <td>1</td>\n",
              "    </tr>\n",
              "    <tr>\n",
              "      <th>3</th>\n",
              "      <td>1</td>\n",
              "      <td>0</td>\n",
              "      <td>35.0</td>\n",
              "      <td>1</td>\n",
              "      <td>0</td>\n",
              "      <td>53.1000</td>\n",
              "      <td>0</td>\n",
              "      <td>0</td>\n",
              "      <td>1</td>\n",
              "    </tr>\n",
              "    <tr>\n",
              "      <th>4</th>\n",
              "      <td>3</td>\n",
              "      <td>1</td>\n",
              "      <td>35.0</td>\n",
              "      <td>0</td>\n",
              "      <td>0</td>\n",
              "      <td>8.0500</td>\n",
              "      <td>0</td>\n",
              "      <td>0</td>\n",
              "      <td>1</td>\n",
              "    </tr>\n",
              "    <tr>\n",
              "      <th>...</th>\n",
              "      <td>...</td>\n",
              "      <td>...</td>\n",
              "      <td>...</td>\n",
              "      <td>...</td>\n",
              "      <td>...</td>\n",
              "      <td>...</td>\n",
              "      <td>...</td>\n",
              "      <td>...</td>\n",
              "      <td>...</td>\n",
              "    </tr>\n",
              "    <tr>\n",
              "      <th>886</th>\n",
              "      <td>2</td>\n",
              "      <td>1</td>\n",
              "      <td>27.0</td>\n",
              "      <td>0</td>\n",
              "      <td>0</td>\n",
              "      <td>13.0000</td>\n",
              "      <td>0</td>\n",
              "      <td>0</td>\n",
              "      <td>1</td>\n",
              "    </tr>\n",
              "    <tr>\n",
              "      <th>887</th>\n",
              "      <td>1</td>\n",
              "      <td>0</td>\n",
              "      <td>19.0</td>\n",
              "      <td>0</td>\n",
              "      <td>0</td>\n",
              "      <td>30.0000</td>\n",
              "      <td>0</td>\n",
              "      <td>0</td>\n",
              "      <td>1</td>\n",
              "    </tr>\n",
              "    <tr>\n",
              "      <th>888</th>\n",
              "      <td>3</td>\n",
              "      <td>0</td>\n",
              "      <td>28.0</td>\n",
              "      <td>1</td>\n",
              "      <td>2</td>\n",
              "      <td>23.4500</td>\n",
              "      <td>0</td>\n",
              "      <td>0</td>\n",
              "      <td>1</td>\n",
              "    </tr>\n",
              "    <tr>\n",
              "      <th>889</th>\n",
              "      <td>1</td>\n",
              "      <td>1</td>\n",
              "      <td>26.0</td>\n",
              "      <td>0</td>\n",
              "      <td>0</td>\n",
              "      <td>30.0000</td>\n",
              "      <td>1</td>\n",
              "      <td>0</td>\n",
              "      <td>0</td>\n",
              "    </tr>\n",
              "    <tr>\n",
              "      <th>890</th>\n",
              "      <td>3</td>\n",
              "      <td>1</td>\n",
              "      <td>32.0</td>\n",
              "      <td>0</td>\n",
              "      <td>0</td>\n",
              "      <td>7.7500</td>\n",
              "      <td>0</td>\n",
              "      <td>1</td>\n",
              "      <td>0</td>\n",
              "    </tr>\n",
              "  </tbody>\n",
              "</table>\n",
              "<p>891 rows × 9 columns</p>\n",
              "</div>"
            ]
          },
          "metadata": {
            "tags": []
          },
          "execution_count": 104
        }
      ]
    },
    {
      "cell_type": "code",
      "metadata": {
        "execution": {
          "iopub.status.busy": "2021-07-07T01:08:18.649002Z",
          "iopub.execute_input": "2021-07-07T01:08:18.649432Z",
          "iopub.status.idle": "2021-07-07T01:08:18.680999Z",
          "shell.execute_reply.started": "2021-07-07T01:08:18.649351Z",
          "shell.execute_reply": "2021-07-07T01:08:18.680107Z"
        },
        "trusted": true,
        "id": "HlLZE7u_g0jp",
        "outputId": "6a4a2bc6-84a8-476d-bda7-203f41296e63"
      },
      "source": [
        "dummy_encoded_test_predictors = pd.get_dummies(test_predictors)\n",
        "dummy_encoded_test_predictors"
      ],
      "execution_count": null,
      "outputs": [
        {
          "output_type": "execute_result",
          "data": {
            "text/plain": [
              "     Pclass  Sex   Age  SibSp  Parch      Fare  Embarked_C  Embarked_Q  \\\n",
              "0         3    1  34.5      0      0    7.8292           0           1   \n",
              "1         3    0  47.0      1      0    7.0000           0           0   \n",
              "2         2    1  62.0      0      0    9.6875           0           1   \n",
              "3         3    1  27.0      0      0    8.6625           0           0   \n",
              "4         3    0  22.0      1      1   12.2875           0           0   \n",
              "..      ...  ...   ...    ...    ...       ...         ...         ...   \n",
              "413       3    1  27.0      0      0    8.0500           0           0   \n",
              "414       1    0  39.0      0      0  108.9000           1           0   \n",
              "415       3    1  38.5      0      0    7.2500           0           0   \n",
              "416       3    1  27.0      0      0    8.0500           0           0   \n",
              "417       3    1  27.0      1      1   22.3583           1           0   \n",
              "\n",
              "     Embarked_S  \n",
              "0             0  \n",
              "1             1  \n",
              "2             0  \n",
              "3             1  \n",
              "4             1  \n",
              "..          ...  \n",
              "413           1  \n",
              "414           0  \n",
              "415           1  \n",
              "416           1  \n",
              "417           0  \n",
              "\n",
              "[418 rows x 9 columns]"
            ],
            "text/html": [
              "<div>\n",
              "<style scoped>\n",
              "    .dataframe tbody tr th:only-of-type {\n",
              "        vertical-align: middle;\n",
              "    }\n",
              "\n",
              "    .dataframe tbody tr th {\n",
              "        vertical-align: top;\n",
              "    }\n",
              "\n",
              "    .dataframe thead th {\n",
              "        text-align: right;\n",
              "    }\n",
              "</style>\n",
              "<table border=\"1\" class=\"dataframe\">\n",
              "  <thead>\n",
              "    <tr style=\"text-align: right;\">\n",
              "      <th></th>\n",
              "      <th>Pclass</th>\n",
              "      <th>Sex</th>\n",
              "      <th>Age</th>\n",
              "      <th>SibSp</th>\n",
              "      <th>Parch</th>\n",
              "      <th>Fare</th>\n",
              "      <th>Embarked_C</th>\n",
              "      <th>Embarked_Q</th>\n",
              "      <th>Embarked_S</th>\n",
              "    </tr>\n",
              "  </thead>\n",
              "  <tbody>\n",
              "    <tr>\n",
              "      <th>0</th>\n",
              "      <td>3</td>\n",
              "      <td>1</td>\n",
              "      <td>34.5</td>\n",
              "      <td>0</td>\n",
              "      <td>0</td>\n",
              "      <td>7.8292</td>\n",
              "      <td>0</td>\n",
              "      <td>1</td>\n",
              "      <td>0</td>\n",
              "    </tr>\n",
              "    <tr>\n",
              "      <th>1</th>\n",
              "      <td>3</td>\n",
              "      <td>0</td>\n",
              "      <td>47.0</td>\n",
              "      <td>1</td>\n",
              "      <td>0</td>\n",
              "      <td>7.0000</td>\n",
              "      <td>0</td>\n",
              "      <td>0</td>\n",
              "      <td>1</td>\n",
              "    </tr>\n",
              "    <tr>\n",
              "      <th>2</th>\n",
              "      <td>2</td>\n",
              "      <td>1</td>\n",
              "      <td>62.0</td>\n",
              "      <td>0</td>\n",
              "      <td>0</td>\n",
              "      <td>9.6875</td>\n",
              "      <td>0</td>\n",
              "      <td>1</td>\n",
              "      <td>0</td>\n",
              "    </tr>\n",
              "    <tr>\n",
              "      <th>3</th>\n",
              "      <td>3</td>\n",
              "      <td>1</td>\n",
              "      <td>27.0</td>\n",
              "      <td>0</td>\n",
              "      <td>0</td>\n",
              "      <td>8.6625</td>\n",
              "      <td>0</td>\n",
              "      <td>0</td>\n",
              "      <td>1</td>\n",
              "    </tr>\n",
              "    <tr>\n",
              "      <th>4</th>\n",
              "      <td>3</td>\n",
              "      <td>0</td>\n",
              "      <td>22.0</td>\n",
              "      <td>1</td>\n",
              "      <td>1</td>\n",
              "      <td>12.2875</td>\n",
              "      <td>0</td>\n",
              "      <td>0</td>\n",
              "      <td>1</td>\n",
              "    </tr>\n",
              "    <tr>\n",
              "      <th>...</th>\n",
              "      <td>...</td>\n",
              "      <td>...</td>\n",
              "      <td>...</td>\n",
              "      <td>...</td>\n",
              "      <td>...</td>\n",
              "      <td>...</td>\n",
              "      <td>...</td>\n",
              "      <td>...</td>\n",
              "      <td>...</td>\n",
              "    </tr>\n",
              "    <tr>\n",
              "      <th>413</th>\n",
              "      <td>3</td>\n",
              "      <td>1</td>\n",
              "      <td>27.0</td>\n",
              "      <td>0</td>\n",
              "      <td>0</td>\n",
              "      <td>8.0500</td>\n",
              "      <td>0</td>\n",
              "      <td>0</td>\n",
              "      <td>1</td>\n",
              "    </tr>\n",
              "    <tr>\n",
              "      <th>414</th>\n",
              "      <td>1</td>\n",
              "      <td>0</td>\n",
              "      <td>39.0</td>\n",
              "      <td>0</td>\n",
              "      <td>0</td>\n",
              "      <td>108.9000</td>\n",
              "      <td>1</td>\n",
              "      <td>0</td>\n",
              "      <td>0</td>\n",
              "    </tr>\n",
              "    <tr>\n",
              "      <th>415</th>\n",
              "      <td>3</td>\n",
              "      <td>1</td>\n",
              "      <td>38.5</td>\n",
              "      <td>0</td>\n",
              "      <td>0</td>\n",
              "      <td>7.2500</td>\n",
              "      <td>0</td>\n",
              "      <td>0</td>\n",
              "      <td>1</td>\n",
              "    </tr>\n",
              "    <tr>\n",
              "      <th>416</th>\n",
              "      <td>3</td>\n",
              "      <td>1</td>\n",
              "      <td>27.0</td>\n",
              "      <td>0</td>\n",
              "      <td>0</td>\n",
              "      <td>8.0500</td>\n",
              "      <td>0</td>\n",
              "      <td>0</td>\n",
              "      <td>1</td>\n",
              "    </tr>\n",
              "    <tr>\n",
              "      <th>417</th>\n",
              "      <td>3</td>\n",
              "      <td>1</td>\n",
              "      <td>27.0</td>\n",
              "      <td>1</td>\n",
              "      <td>1</td>\n",
              "      <td>22.3583</td>\n",
              "      <td>1</td>\n",
              "      <td>0</td>\n",
              "      <td>0</td>\n",
              "    </tr>\n",
              "  </tbody>\n",
              "</table>\n",
              "<p>418 rows × 9 columns</p>\n",
              "</div>"
            ]
          },
          "metadata": {
            "tags": []
          },
          "execution_count": 105
        }
      ]
    },
    {
      "cell_type": "markdown",
      "metadata": {
        "id": "fZHCnr-dg0jq"
      },
      "source": [
        "We have different variables (columns) that measure distinct parameters and all of them are in different scales so, our first step would be standardized this values. To complete this task we will use `sklearn.preprocessing.StandardScaler()` class, which standardize features by removing the mean and scaling to unit variance."
      ]
    },
    {
      "cell_type": "markdown",
      "metadata": {
        "id": "uzO48laWg0jq"
      },
      "source": [
        "#### Testing with local data"
      ]
    },
    {
      "cell_type": "code",
      "metadata": {
        "execution": {
          "iopub.status.busy": "2021-07-07T01:08:19.202124Z",
          "iopub.execute_input": "2021-07-07T01:08:19.202517Z",
          "iopub.status.idle": "2021-07-07T01:08:19.211036Z",
          "shell.execute_reply.started": "2021-07-07T01:08:19.202484Z",
          "shell.execute_reply": "2021-07-07T01:08:19.209657Z"
        },
        "trusted": true,
        "id": "kOTG1qpLg0jq"
      },
      "source": [
        "y_target = train_df['Survived'].values"
      ],
      "execution_count": null,
      "outputs": []
    },
    {
      "cell_type": "code",
      "metadata": {
        "execution": {
          "iopub.status.busy": "2021-07-07T01:08:19.406086Z",
          "iopub.execute_input": "2021-07-07T01:08:19.406436Z",
          "iopub.status.idle": "2021-07-07T01:08:19.426001Z",
          "shell.execute_reply.started": "2021-07-07T01:08:19.406412Z",
          "shell.execute_reply": "2021-07-07T01:08:19.425069Z"
        },
        "trusted": true,
        "id": "mpKBwkWhg0jq",
        "outputId": "e95a66a3-4035-4bda-d4d7-38020ff16fc5"
      },
      "source": [
        "x_features_one = dummy_encoded_train_predictors\n",
        "x_features_one"
      ],
      "execution_count": null,
      "outputs": [
        {
          "output_type": "execute_result",
          "data": {
            "text/plain": [
              "     Pclass  Sex   Age  SibSp  Parch     Fare  Embarked_C  Embarked_Q  \\\n",
              "0         3    1  22.0      1      0   7.2500           0           0   \n",
              "1         1    0  38.0      1      0  71.2833           1           0   \n",
              "2         3    0  26.0      0      0   7.9250           0           0   \n",
              "3         1    0  35.0      1      0  53.1000           0           0   \n",
              "4         3    1  35.0      0      0   8.0500           0           0   \n",
              "..      ...  ...   ...    ...    ...      ...         ...         ...   \n",
              "886       2    1  27.0      0      0  13.0000           0           0   \n",
              "887       1    0  19.0      0      0  30.0000           0           0   \n",
              "888       3    0  28.0      1      2  23.4500           0           0   \n",
              "889       1    1  26.0      0      0  30.0000           1           0   \n",
              "890       3    1  32.0      0      0   7.7500           0           1   \n",
              "\n",
              "     Embarked_S  \n",
              "0             1  \n",
              "1             0  \n",
              "2             1  \n",
              "3             1  \n",
              "4             1  \n",
              "..          ...  \n",
              "886           1  \n",
              "887           1  \n",
              "888           1  \n",
              "889           0  \n",
              "890           0  \n",
              "\n",
              "[891 rows x 9 columns]"
            ],
            "text/html": [
              "<div>\n",
              "<style scoped>\n",
              "    .dataframe tbody tr th:only-of-type {\n",
              "        vertical-align: middle;\n",
              "    }\n",
              "\n",
              "    .dataframe tbody tr th {\n",
              "        vertical-align: top;\n",
              "    }\n",
              "\n",
              "    .dataframe thead th {\n",
              "        text-align: right;\n",
              "    }\n",
              "</style>\n",
              "<table border=\"1\" class=\"dataframe\">\n",
              "  <thead>\n",
              "    <tr style=\"text-align: right;\">\n",
              "      <th></th>\n",
              "      <th>Pclass</th>\n",
              "      <th>Sex</th>\n",
              "      <th>Age</th>\n",
              "      <th>SibSp</th>\n",
              "      <th>Parch</th>\n",
              "      <th>Fare</th>\n",
              "      <th>Embarked_C</th>\n",
              "      <th>Embarked_Q</th>\n",
              "      <th>Embarked_S</th>\n",
              "    </tr>\n",
              "  </thead>\n",
              "  <tbody>\n",
              "    <tr>\n",
              "      <th>0</th>\n",
              "      <td>3</td>\n",
              "      <td>1</td>\n",
              "      <td>22.0</td>\n",
              "      <td>1</td>\n",
              "      <td>0</td>\n",
              "      <td>7.2500</td>\n",
              "      <td>0</td>\n",
              "      <td>0</td>\n",
              "      <td>1</td>\n",
              "    </tr>\n",
              "    <tr>\n",
              "      <th>1</th>\n",
              "      <td>1</td>\n",
              "      <td>0</td>\n",
              "      <td>38.0</td>\n",
              "      <td>1</td>\n",
              "      <td>0</td>\n",
              "      <td>71.2833</td>\n",
              "      <td>1</td>\n",
              "      <td>0</td>\n",
              "      <td>0</td>\n",
              "    </tr>\n",
              "    <tr>\n",
              "      <th>2</th>\n",
              "      <td>3</td>\n",
              "      <td>0</td>\n",
              "      <td>26.0</td>\n",
              "      <td>0</td>\n",
              "      <td>0</td>\n",
              "      <td>7.9250</td>\n",
              "      <td>0</td>\n",
              "      <td>0</td>\n",
              "      <td>1</td>\n",
              "    </tr>\n",
              "    <tr>\n",
              "      <th>3</th>\n",
              "      <td>1</td>\n",
              "      <td>0</td>\n",
              "      <td>35.0</td>\n",
              "      <td>1</td>\n",
              "      <td>0</td>\n",
              "      <td>53.1000</td>\n",
              "      <td>0</td>\n",
              "      <td>0</td>\n",
              "      <td>1</td>\n",
              "    </tr>\n",
              "    <tr>\n",
              "      <th>4</th>\n",
              "      <td>3</td>\n",
              "      <td>1</td>\n",
              "      <td>35.0</td>\n",
              "      <td>0</td>\n",
              "      <td>0</td>\n",
              "      <td>8.0500</td>\n",
              "      <td>0</td>\n",
              "      <td>0</td>\n",
              "      <td>1</td>\n",
              "    </tr>\n",
              "    <tr>\n",
              "      <th>...</th>\n",
              "      <td>...</td>\n",
              "      <td>...</td>\n",
              "      <td>...</td>\n",
              "      <td>...</td>\n",
              "      <td>...</td>\n",
              "      <td>...</td>\n",
              "      <td>...</td>\n",
              "      <td>...</td>\n",
              "      <td>...</td>\n",
              "    </tr>\n",
              "    <tr>\n",
              "      <th>886</th>\n",
              "      <td>2</td>\n",
              "      <td>1</td>\n",
              "      <td>27.0</td>\n",
              "      <td>0</td>\n",
              "      <td>0</td>\n",
              "      <td>13.0000</td>\n",
              "      <td>0</td>\n",
              "      <td>0</td>\n",
              "      <td>1</td>\n",
              "    </tr>\n",
              "    <tr>\n",
              "      <th>887</th>\n",
              "      <td>1</td>\n",
              "      <td>0</td>\n",
              "      <td>19.0</td>\n",
              "      <td>0</td>\n",
              "      <td>0</td>\n",
              "      <td>30.0000</td>\n",
              "      <td>0</td>\n",
              "      <td>0</td>\n",
              "      <td>1</td>\n",
              "    </tr>\n",
              "    <tr>\n",
              "      <th>888</th>\n",
              "      <td>3</td>\n",
              "      <td>0</td>\n",
              "      <td>28.0</td>\n",
              "      <td>1</td>\n",
              "      <td>2</td>\n",
              "      <td>23.4500</td>\n",
              "      <td>0</td>\n",
              "      <td>0</td>\n",
              "      <td>1</td>\n",
              "    </tr>\n",
              "    <tr>\n",
              "      <th>889</th>\n",
              "      <td>1</td>\n",
              "      <td>1</td>\n",
              "      <td>26.0</td>\n",
              "      <td>0</td>\n",
              "      <td>0</td>\n",
              "      <td>30.0000</td>\n",
              "      <td>1</td>\n",
              "      <td>0</td>\n",
              "      <td>0</td>\n",
              "    </tr>\n",
              "    <tr>\n",
              "      <th>890</th>\n",
              "      <td>3</td>\n",
              "      <td>1</td>\n",
              "      <td>32.0</td>\n",
              "      <td>0</td>\n",
              "      <td>0</td>\n",
              "      <td>7.7500</td>\n",
              "      <td>0</td>\n",
              "      <td>1</td>\n",
              "      <td>0</td>\n",
              "    </tr>\n",
              "  </tbody>\n",
              "</table>\n",
              "<p>891 rows × 9 columns</p>\n",
              "</div>"
            ]
          },
          "metadata": {
            "tags": []
          },
          "execution_count": 107
        }
      ]
    },
    {
      "cell_type": "code",
      "metadata": {
        "execution": {
          "iopub.status.busy": "2021-07-07T01:08:19.668917Z",
          "iopub.execute_input": "2021-07-07T01:08:19.669212Z",
          "iopub.status.idle": "2021-07-07T01:08:19.677709Z",
          "shell.execute_reply.started": "2021-07-07T01:08:19.669188Z",
          "shell.execute_reply": "2021-07-07T01:08:19.676365Z"
        },
        "trusted": true,
        "id": "0AJdDTo3g0jq"
      },
      "source": [
        "x_train, x_validation, y_train, y_validation = train_test_split(x_features_one, y_target, \n",
        "                                                                 test_size = 0.25, random_state=1)"
      ],
      "execution_count": null,
      "outputs": []
    },
    {
      "cell_type": "code",
      "metadata": {
        "execution": {
          "iopub.status.busy": "2021-07-07T01:08:19.993872Z",
          "iopub.execute_input": "2021-07-07T01:08:19.994184Z",
          "iopub.status.idle": "2021-07-07T01:08:19.998927Z",
          "shell.execute_reply.started": "2021-07-07T01:08:19.994160Z",
          "shell.execute_reply": "2021-07-07T01:08:19.997789Z"
        },
        "trusted": true,
        "id": "tKwY32xng0jr"
      },
      "source": [
        "tree_one = tree.DecisionTreeClassifier()"
      ],
      "execution_count": null,
      "outputs": []
    },
    {
      "cell_type": "code",
      "metadata": {
        "execution": {
          "iopub.status.busy": "2021-07-07T01:08:20.319504Z",
          "iopub.execute_input": "2021-07-07T01:08:20.319836Z",
          "iopub.status.idle": "2021-07-07T01:08:20.326420Z",
          "shell.execute_reply.started": "2021-07-07T01:08:20.319811Z",
          "shell.execute_reply": "2021-07-07T01:08:20.325899Z"
        },
        "trusted": true,
        "id": "2ZylYVXWg0jr"
      },
      "source": [
        "tree_one = tree_one.fit(x_train, y_train)"
      ],
      "execution_count": null,
      "outputs": []
    },
    {
      "cell_type": "code",
      "metadata": {
        "execution": {
          "iopub.status.busy": "2021-07-07T01:08:20.579099Z",
          "iopub.execute_input": "2021-07-07T01:08:20.579606Z",
          "iopub.status.idle": "2021-07-07T01:08:20.588766Z",
          "shell.execute_reply.started": "2021-07-07T01:08:20.579563Z",
          "shell.execute_reply": "2021-07-07T01:08:20.587672Z"
        },
        "trusted": true,
        "id": "-HUn32Zmg0jr",
        "outputId": "def981fb-fb73-42b0-e037-400ec769de58"
      },
      "source": [
        "tree_one_accuracy = round(tree_one.score(x_validation, y_validation), 3)\n",
        "tree_one_accuracy"
      ],
      "execution_count": null,
      "outputs": [
        {
          "output_type": "execute_result",
          "data": {
            "text/plain": [
              "0.758"
            ]
          },
          "metadata": {
            "tags": []
          },
          "execution_count": 111
        }
      ]
    },
    {
      "cell_type": "markdown",
      "metadata": {
        "execution": {
          "iopub.status.busy": "2021-07-07T00:09:54.128307Z",
          "iopub.execute_input": "2021-07-07T00:09:54.128725Z",
          "iopub.status.idle": "2021-07-07T00:09:54.134915Z",
          "shell.execute_reply.started": "2021-07-07T00:09:54.128693Z",
          "shell.execute_reply": "2021-07-07T00:09:54.133588Z"
        },
        "id": "odCAIttSg0jr"
      },
      "source": [
        "---"
      ]
    },
    {
      "cell_type": "markdown",
      "metadata": {
        "id": "JbCtzBu3g0jr"
      },
      "source": [
        "## Creating model 🧠"
      ]
    },
    {
      "cell_type": "code",
      "metadata": {
        "execution": {
          "iopub.status.busy": "2021-07-07T01:08:24.817150Z",
          "iopub.execute_input": "2021-07-07T01:08:24.817469Z",
          "iopub.status.idle": "2021-07-07T01:08:24.821155Z",
          "shell.execute_reply.started": "2021-07-07T01:08:24.817444Z",
          "shell.execute_reply": "2021-07-07T01:08:24.820298Z"
        },
        "trusted": true,
        "id": "HBvGmt_pg0jr"
      },
      "source": [
        "from xgboost import XGBRegressor #pip install xgboost\n",
        "from sklearn.metrics import r2_score"
      ],
      "execution_count": null,
      "outputs": []
    },
    {
      "cell_type": "code",
      "metadata": {
        "execution": {
          "iopub.status.busy": "2021-07-07T01:08:25.026853Z",
          "iopub.execute_input": "2021-07-07T01:08:25.027287Z",
          "iopub.status.idle": "2021-07-07T01:08:25.030894Z",
          "shell.execute_reply.started": "2021-07-07T01:08:25.027249Z",
          "shell.execute_reply": "2021-07-07T01:08:25.029866Z"
        },
        "trusted": true,
        "id": "H_5yko08g0js"
      },
      "source": [
        "X_train = dummy_encoded_train_predictors"
      ],
      "execution_count": null,
      "outputs": []
    },
    {
      "cell_type": "code",
      "metadata": {
        "execution": {
          "iopub.status.busy": "2021-07-07T01:08:25.198582Z",
          "iopub.execute_input": "2021-07-07T01:08:25.198999Z",
          "iopub.status.idle": "2021-07-07T01:08:25.202682Z",
          "shell.execute_reply.started": "2021-07-07T01:08:25.198953Z",
          "shell.execute_reply": "2021-07-07T01:08:25.201725Z"
        },
        "trusted": true,
        "id": "fiacHpbdg0js"
      },
      "source": [
        "y_train = train_df['Survived'].values"
      ],
      "execution_count": null,
      "outputs": []
    },
    {
      "cell_type": "code",
      "metadata": {
        "execution": {
          "iopub.status.busy": "2021-07-07T01:08:25.401692Z",
          "iopub.execute_input": "2021-07-07T01:08:25.402111Z",
          "iopub.status.idle": "2021-07-07T01:08:25.405377Z",
          "shell.execute_reply.started": "2021-07-07T01:08:25.402075Z",
          "shell.execute_reply": "2021-07-07T01:08:25.404652Z"
        },
        "trusted": true,
        "id": "xz84_Pzcg0js"
      },
      "source": [
        "X_test = dummy_encoded_test_predictors"
      ],
      "execution_count": null,
      "outputs": []
    },
    {
      "cell_type": "code",
      "metadata": {
        "execution": {
          "iopub.status.busy": "2021-07-07T01:08:25.607771Z",
          "iopub.execute_input": "2021-07-07T01:08:25.608210Z",
          "iopub.status.idle": "2021-07-07T01:08:25.611782Z",
          "shell.execute_reply.started": "2021-07-07T01:08:25.608174Z",
          "shell.execute_reply": "2021-07-07T01:08:25.610837Z"
        },
        "trusted": true,
        "id": "ZF2CCwkAg0js"
      },
      "source": [
        "model = tree.DecisionTreeClassifier()"
      ],
      "execution_count": null,
      "outputs": []
    },
    {
      "cell_type": "code",
      "metadata": {
        "execution": {
          "iopub.status.busy": "2021-07-07T01:08:25.934718Z",
          "iopub.execute_input": "2021-07-07T01:08:25.935148Z",
          "iopub.status.idle": "2021-07-07T01:08:25.944660Z",
          "shell.execute_reply.started": "2021-07-07T01:08:25.935112Z",
          "shell.execute_reply": "2021-07-07T01:08:25.943443Z"
        },
        "trusted": true,
        "id": "RbSdHP9Yg0js",
        "outputId": "70f2eb75-2545-44d2-ad12-b5dc0ae6b01e"
      },
      "source": [
        "model.fit(X_train, y_train)"
      ],
      "execution_count": null,
      "outputs": [
        {
          "output_type": "execute_result",
          "data": {
            "text/plain": [
              "DecisionTreeClassifier()"
            ]
          },
          "metadata": {
            "tags": []
          },
          "execution_count": 117
        }
      ]
    },
    {
      "cell_type": "code",
      "metadata": {
        "execution": {
          "iopub.status.busy": "2021-07-07T01:08:26.924117Z",
          "iopub.execute_input": "2021-07-07T01:08:26.924482Z",
          "iopub.status.idle": "2021-07-07T01:08:26.932612Z",
          "shell.execute_reply.started": "2021-07-07T01:08:26.924453Z",
          "shell.execute_reply": "2021-07-07T01:08:26.931197Z"
        },
        "trusted": true,
        "id": "WD31sXUFg0js"
      },
      "source": [
        "predictions = model.predict(X_test)"
      ],
      "execution_count": null,
      "outputs": []
    },
    {
      "cell_type": "code",
      "metadata": {
        "execution": {
          "iopub.status.busy": "2021-07-07T01:08:28.036764Z",
          "iopub.execute_input": "2021-07-07T01:08:28.037093Z",
          "iopub.status.idle": "2021-07-07T01:08:28.045649Z",
          "shell.execute_reply.started": "2021-07-07T01:08:28.037067Z",
          "shell.execute_reply": "2021-07-07T01:08:28.044256Z"
        },
        "trusted": true,
        "id": "kG_PoupDg0jt",
        "outputId": "89ea4b2d-cc30-45cd-8511-a72cd1656f64"
      },
      "source": [
        "output = pd.DataFrame({'PassengerId': test_df.PassengerId, 'Survived': predictions})\n",
        "output.to_csv('my_submission.csv', index=False)\n",
        "print(\"Your submission was successfully saved!\")"
      ],
      "execution_count": null,
      "outputs": [
        {
          "output_type": "stream",
          "text": [
            "Your submission was successfully saved!\n"
          ],
          "name": "stdout"
        }
      ]
    },
    {
      "cell_type": "markdown",
      "metadata": {
        "id": "uv_P4pb4g0jt"
      },
      "source": [
        "---"
      ]
    }
  ]
}