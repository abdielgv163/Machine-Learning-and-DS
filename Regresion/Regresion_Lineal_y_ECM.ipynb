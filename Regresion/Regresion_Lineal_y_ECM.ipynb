{
  "nbformat": 4,
  "nbformat_minor": 0,
  "metadata": {
    "colab": {
      "name": "Regresion_Lineal_y_ECM.ipynb",
      "provenance": [],
      "collapsed_sections": [],
      "authorship_tag": "ABX9TyPc++tUO+WVMEIczjtskUIf"
    },
    "kernelspec": {
      "name": "python3",
      "display_name": "Python 3"
    },
    "language_info": {
      "name": "python"
    }
  },
  "cells": [
    {
      "cell_type": "markdown",
      "metadata": {
        "id": "Rx8a7SkD44yG"
      },
      "source": [
        "Implementación de una regresión lineal y calculando el Error Cuadrático Medio (ECM)."
      ]
    },
    {
      "cell_type": "markdown",
      "metadata": {
        "id": "agz3VHbj6tTt"
      },
      "source": [
        "En estadística, el error cuadrático medio de un estimador mide el promedio de errores al cuadrado, es decir, la diferencia entre el estimador y lo que se estima. El ESCM es una función de riesgo, correspondiente al valor esperado de la pérdida del error al cuadrado o pérdida cuadrática. La diferencia se produce debido a la aleatoriedad o porque el estimador no tiene en cuenta la información que podría producir una estimación más precisa.\n",
        "\n",
        "El ECM incorpora tanto la varianza del estimador así como su sesgo.\n"
      ]
    },
    {
      "cell_type": "markdown",
      "metadata": {
        "id": "XSYe5k6N6vg4"
      },
      "source": [
        "Si $\\hat y$ es un vector de $n$ predicciones y $y$ es el vector de los verdaderos valores, entonces el ECM del predictor es:"
      ]
    },
    {
      "cell_type": "markdown",
      "metadata": {
        "id": "3lo6Du0H65tN"
      },
      "source": [
        "$$\\text{RMSE} = \\frac{1}{n}\\cdot \\sum_{i=1}^{n}{(\\hat y_i - y_i)^2} $$"
      ]
    },
    {
      "cell_type": "markdown",
      "metadata": {
        "id": "ADn737lM7CMK"
      },
      "source": [
        "Que al final de cuentas no es más que una regresión lineal. Si quisieramos graficar la linea obtendríamos sus parámetros de ls siguiente forma:\n"
      ]
    },
    {
      "cell_type": "markdown",
      "metadata": {
        "id": "EU8AxLUb7EUK"
      },
      "source": [
        "$$m = \\frac{n \\sum{xy-(\\sum{x})(\\sum{y})}}{n\\sum{x^2}-(\\sum{x)^2}}$$"
      ]
    },
    {
      "cell_type": "markdown",
      "metadata": {
        "id": "CUFqj9hR7G7o"
      },
      "source": [
        "$$b = \\frac{\\sum{y}- m(\\sum{x})}{n} $$"
      ]
    },
    {
      "cell_type": "code",
      "metadata": {
        "id": "eKhTXL5d4vpV"
      },
      "source": [
        "import matplotlib.pyplot as plt\n",
        "import numpy as np\n",
        "import math"
      ],
      "execution_count": 1,
      "outputs": []
    },
    {
      "cell_type": "code",
      "metadata": {
        "id": "PJ1WM9Ub4m4w"
      },
      "source": [
        "# Vamos a hacer la linea recta que correspondera a y_hat\n",
        "# Ya que ahí efectuamos la evaluación del erro predicho\n",
        "def calc_m_b(data):\n",
        "    # obtenemos n\n",
        "    n = len(data)\n",
        "    # obtenemos la suma de xy\n",
        "    # Y sum x y sum y\n",
        "    sum_xy = 0\n",
        "    sum_x = 0\n",
        "    sum_y = 0\n",
        "    sum_x2 = 0\n",
        "    for i in data:\n",
        "        sum_xy += (i[0] * i[1])\n",
        "        sum_x  += (i[0])\n",
        "        sum_y  += (i[1])\n",
        "        sum_x2 += (i[0])**2\n",
        "    # Calculamos la pendiente\n",
        "    m = (n * sum_xy - (sum_x * sum_y)) / ( (n * sum_x2) - (sum_x)**2 )\n",
        "    # Ahora calculemos  b\n",
        "    b = (sum_y - (m * sum_x) ) / (n)\n",
        "    #Devolvemos valores\n",
        "    return m,b"
      ],
      "execution_count": 3,
      "outputs": []
    },
    {
      "cell_type": "code",
      "metadata": {
        "id": "y4X9ERct4ygu"
      },
      "source": [
        "def y_hat_line(x,m,b):   \n",
        "    return x*m + b\n",
        "\n",
        "def ecm(data,m,b):\n",
        "    n= len(data)\n",
        "    y_hat = []\n",
        "    add = 0\n",
        "    for i in data:\n",
        "        y_hat.append(y_hat_line(i[0],m,b) )\n",
        "    #print(f'y_hat values:{y_hat}\\n')\n",
        "    \n",
        "    for i in range(n):\n",
        "        add += (( y_hat[i]) - (data[i][1]))**2\n",
        "        print(f'Predicción {i+1}: {y_hat[i]}')\n",
        "        print(f'Dato real {i+1}: {data[i][1]}')\n",
        "    return (1/n)*add"
      ],
      "execution_count": 4,
      "outputs": []
    },
    {
      "cell_type": "code",
      "metadata": {
        "id": "KzZhQkUQ5GWn"
      },
      "source": [
        "def graph(x,data,line):\n",
        "    #Creamos el cuadrito\n",
        "    fig, ax = plt.subplots()\n",
        "    ax.grid()\n",
        "    plt.title('Función de coste')\n",
        "    plt.xlabel(\"Gasto en publicidad\")\n",
        "    plt.ylabel(\"Ventas\")\n",
        "    ax.plot(x,line)\n",
        "    for i in data:\n",
        "        plt.plot(i[0], i[1], 'o')\n",
        "    plt.legend(['Regresión lineal'])"
      ],
      "execution_count": 5,
      "outputs": []
    },
    {
      "cell_type": "code",
      "metadata": {
        "colab": {
          "base_uri": "https://localhost:8080/",
          "height": 650
        },
        "id": "pufydVpo5IvQ",
        "outputId": "70bf0f0b-d562-40b3-9830-96ebb6f282ea"
      },
      "source": [
        "# Datos\n",
        "res = 10000\n",
        "x = np.linspace(0.0, 70.0, num=res)\n",
        "data = [[10,100],[20,150],[30,200],[40,180],[50,250],[60,230]]\n",
        "m,b = calc_m_b(data)\n",
        "print(f'\\nPendiente: {m}')\n",
        "print(f'Intersección: {b}')\n",
        "print(f'-------------------------------------')\n",
        "line = y_hat_line(x,m,b)\n",
        "ECM = ecm(data,m,b)\n",
        "graph(x,data, line)\n",
        "print(f'-------------------------------------')\n",
        "print(f'Error Cuadrático Medio: {ECM}\\n')"
      ],
      "execution_count": 7,
      "outputs": [
        {
          "output_type": "stream",
          "text": [
            "\n",
            "Pendiente: 2.657142857142857\n",
            "Intersección: 92.0\n",
            "-------------------------------------\n",
            "Predicción 1: 118.57142857142857\n",
            "Dato real 1: 100\n",
            "Predicción 2: 145.14285714285714\n",
            "Dato real 2: 150\n",
            "Predicción 3: 171.71428571428572\n",
            "Dato real 3: 200\n",
            "Predicción 4: 198.28571428571428\n",
            "Dato real 4: 180\n",
            "Predicción 5: 224.85714285714286\n",
            "Dato real 5: 250\n",
            "Predicción 6: 251.42857142857142\n",
            "Dato real 6: 230\n",
            "-------------------------------------\n",
            "Error Cuadrático Medio: 432.3809523809521\n",
            "\n"
          ],
          "name": "stdout"
        },
        {
          "output_type": "display_data",
          "data": {
            "image/png": "[encoded data removed]",
            "text/plain": [
              "<Figure size 432x288 with 1 Axes>"
            ]
          },
          "metadata": {
            "tags": [],
            "needs_background": "light"
          }
        }
      ]
    },
    {
      "cell_type": "markdown",
      "metadata": {
        "id": "XEV4GL_b5MdX"
      },
      "source": [
        "---"
      ]
    }
  ]
}