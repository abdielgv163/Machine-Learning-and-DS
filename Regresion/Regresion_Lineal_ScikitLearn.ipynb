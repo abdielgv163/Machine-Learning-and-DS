{
  "nbformat": 4,
  "nbformat_minor": 0,
  "metadata": {
    "colab": {
      "name": "Regresion_Lineal_ScikitLearn.ipynb",
      "provenance": [],
      "collapsed_sections": [],
      "authorship_tag": "ABX9TyM311Zo/bxn0aQeqjzfXnbp"
    },
    "kernelspec": {
      "name": "python3",
      "display_name": "Python 3"
    },
    "language_info": {
      "name": "python"
    }
  },
  "cells": [
    {
      "cell_type": "code",
      "metadata": {
        "colab": {
          "base_uri": "https://localhost:8080/"
        },
        "id": "wRQXiu7kwK2d",
        "outputId": "c140a0d1-5b01-4fc4-c930-26f93ee36514"
      },
      "source": [
        "from google.colab import drive\n",
        "drive.mount('/content/drive')"
      ],
      "execution_count": 3,
      "outputs": [
        {
          "output_type": "stream",
          "text": [
            "Mounted at /content/drive\n"
          ],
          "name": "stdout"
        }
      ]
    },
    {
      "cell_type": "code",
      "metadata": {
        "id": "4X0KbaCIwdSK"
      },
      "source": [
        "from google.colab import files\n",
        " \n",
        "files.upload()"
      ],
      "execution_count": null,
      "outputs": []
    },
    {
      "cell_type": "code",
      "metadata": {
        "id": "Jnv2JX8W9lVj"
      },
      "source": [
        "import pandas as pd\n",
        "import matplotlib.pyplot as plt\n",
        "# Importamos nuestro modelo para poder entranar\n",
        "from sklearn.model_selection import train_test_split\n",
        "# Importamos el modelo de regresión lineal\n",
        "from sklearn.linear_model import LinearRegression\n",
        "from sklearn import linear_model"
      ],
      "execution_count": 2,
      "outputs": []
    },
    {
      "cell_type": "markdown",
      "metadata": {
        "id": "vIxfJZaw0ME0"
      },
      "source": [
        "### Obteniendo el dataset"
      ]
    },
    {
      "cell_type": "code",
      "metadata": {
        "colab": {
          "base_uri": "https://localhost:8080/",
          "height": 206
        },
        "id": "jR43aHxxwBcy",
        "outputId": "a19732b1-6cd5-490a-e986-2528aeba0571"
      },
      "source": [
        "dataset = pd.read_csv(\"salarios.csv\")\n",
        "dataset.head(5)"
      ],
      "execution_count": 5,
      "outputs": [
        {
          "output_type": "execute_result",
          "data": {
            "text/html": [
              "<div>\n",
              "<style scoped>\n",
              "    .dataframe tbody tr th:only-of-type {\n",
              "        vertical-align: middle;\n",
              "    }\n",
              "\n",
              "    .dataframe tbody tr th {\n",
              "        vertical-align: top;\n",
              "    }\n",
              "\n",
              "    .dataframe thead th {\n",
              "        text-align: right;\n",
              "    }\n",
              "</style>\n",
              "<table border=\"1\" class=\"dataframe\">\n",
              "  <thead>\n",
              "    <tr style=\"text-align: right;\">\n",
              "      <th></th>\n",
              "      <th>Aexperiencia</th>\n",
              "      <th>Salario</th>\n",
              "    </tr>\n",
              "  </thead>\n",
              "  <tbody>\n",
              "    <tr>\n",
              "      <th>0</th>\n",
              "      <td>10.0</td>\n",
              "      <td>42500</td>\n",
              "    </tr>\n",
              "    <tr>\n",
              "      <th>1</th>\n",
              "      <td>8.0</td>\n",
              "      <td>36302</td>\n",
              "    </tr>\n",
              "    <tr>\n",
              "      <th>2</th>\n",
              "      <td>5.4</td>\n",
              "      <td>35000</td>\n",
              "    </tr>\n",
              "    <tr>\n",
              "      <th>3</th>\n",
              "      <td>2.5</td>\n",
              "      <td>18103</td>\n",
              "    </tr>\n",
              "    <tr>\n",
              "      <th>4</th>\n",
              "      <td>1.0</td>\n",
              "      <td>15000</td>\n",
              "    </tr>\n",
              "  </tbody>\n",
              "</table>\n",
              "</div>"
            ],
            "text/plain": [
              "   Aexperiencia  Salario\n",
              "0          10.0    42500\n",
              "1           8.0    36302\n",
              "2           5.4    35000\n",
              "3           2.5    18103\n",
              "4           1.0    15000"
            ]
          },
          "metadata": {
            "tags": []
          },
          "execution_count": 5
        }
      ]
    },
    {
      "cell_type": "markdown",
      "metadata": {
        "id": "bIZeRAd41dB-"
      },
      "source": [
        "### Separando las columnas en variables"
      ]
    },
    {
      "cell_type": "code",
      "metadata": {
        "colab": {
          "base_uri": "https://localhost:8080/"
        },
        "id": "t6luEUUmwwVp",
        "outputId": "9d701572-6496-428a-ea84-128064789c87"
      },
      "source": [
        "x = dataset.iloc[: , :-1].values\n",
        "y = dataset.iloc[: , 1].values\n",
        "print(x,y)"
      ],
      "execution_count": 7,
      "outputs": [
        {
          "output_type": "stream",
          "text": [
            "[[10. ]\n",
            " [ 8. ]\n",
            " [ 5.4]\n",
            " [ 2.5]\n",
            " [ 1. ]\n",
            " [ 8. ]\n",
            " [ 4. ]\n",
            " [ 6. ]\n",
            " [ 2. ]\n",
            " [10. ]\n",
            " [ 4. ]\n",
            " [ 7. ]\n",
            " [ 3. ]\n",
            " [ 5. ]\n",
            " [ 2. ]\n",
            " [ 5. ]\n",
            " [ 3. ]\n",
            " [ 2. ]\n",
            " [ 3. ]\n",
            " [ 2. ]\n",
            " [ 5. ]\n",
            " [ 3.4]\n",
            " [ 5.3]\n",
            " [ 2.1]\n",
            " [ 9.2]\n",
            " [10. ]\n",
            " [ 3.2]\n",
            " [10. ]\n",
            " [ 4. ]\n",
            " [ 1. ]] [42500 36302 35000 18103 15000 37000 26300 35201 18302 42000 27000 35201\n",
            " 19201 28000 17000 33402 19000 18200 19000 17301 28000 20000 27900 17500\n",
            " 40000 42500 18300 40000 25000 15000]\n"
          ],
          "name": "stdout"
        }
      ]
    },
    {
      "cell_type": "markdown",
      "metadata": {
        "id": "A1wWsUmi1jTc"
      },
      "source": [
        "### Dividimos los datos de entrenamiento y de testeo"
      ]
    },
    {
      "cell_type": "code",
      "metadata": {
        "id": "knkn4Jc8w02I"
      },
      "source": [
        "# El test_size destina el 20% a testeo y el 80% a entrenamientp\n",
        "# El random_state nos dice si vamos a modificar los datos intercambiando los de prueba y entrenamiento\n",
        "X_train, X_test, Y_train, Y_test = train_test_split(x , y, test_size =  0.2, random_state = 0)"
      ],
      "execution_count": 8,
      "outputs": []
    },
    {
      "cell_type": "markdown",
      "metadata": {
        "id": "AKiMDLTF1luu"
      },
      "source": [
        "### Llamamos al modelo"
      ]
    },
    {
      "cell_type": "code",
      "metadata": {
        "id": "__Mx-aUFw6uU"
      },
      "source": [
        "regression = LinearRegression()"
      ],
      "execution_count": 9,
      "outputs": []
    },
    {
      "cell_type": "markdown",
      "metadata": {
        "id": "rAX5zryn1nv7"
      },
      "source": [
        "### Entrenamos"
      ]
    },
    {
      "cell_type": "code",
      "metadata": {
        "colab": {
          "base_uri": "https://localhost:8080/"
        },
        "id": "QOvremsaw9hy",
        "outputId": "05ac37b4-a008-4597-f1e5-c0d81c3d6c62"
      },
      "source": [
        "regression.fit(X_train, Y_train)"
      ],
      "execution_count": 10,
      "outputs": [
        {
          "output_type": "execute_result",
          "data": {
            "text/plain": [
              "LinearRegression(copy_X=True, fit_intercept=True, n_jobs=None, normalize=False)"
            ]
          },
          "metadata": {
            "tags": []
          },
          "execution_count": 10
        }
      ]
    },
    {
      "cell_type": "markdown",
      "metadata": {
        "id": "WG5o8mSE1ql3"
      },
      "source": [
        "### Visualizamos"
      ]
    },
    {
      "cell_type": "code",
      "metadata": {
        "colab": {
          "base_uri": "https://localhost:8080/",
          "height": 295
        },
        "id": "g1GpOyXAw-4t",
        "outputId": "16cbf249-8925-4323-b248-96407e748db1"
      },
      "source": [
        "# Le decimos que es un objeto con los que trabaja mat plot\n",
        "visual_train = plt\n",
        "# Hacemos la gráfica de los datos\n",
        "visual_train.scatter(X_train, Y_train, color = '#7820D6')\n",
        "# Le decimos que trace una línea con los datos de entrenamiento y la predicción del modelo de color negro\n",
        "visual_train.plot(X_train, regression.predict(X_train), color ='black')\n",
        "# Le agregamos su información a la gráfica\n",
        "visual_train.title('Entrenamiento del modelo')\n",
        "visual_train.xlabel('Experiencia')\n",
        "visual_train.ylabel('Salario')\n",
        "visual_train.show()"
      ],
      "execution_count": 11,
      "outputs": [
        {
          "output_type": "display_data",
          "data": {
            "image/png": "[encoded data removed]",
            "text/plain": [
              "<Figure size 432x288 with 1 Axes>"
            ]
          },
          "metadata": {
            "tags": [],
            "needs_background": "light"
          }
        }
      ]
    },
    {
      "cell_type": "code",
      "metadata": {
        "colab": {
          "base_uri": "https://localhost:8080/",
          "height": 295
        },
        "id": "552iow23xA1v",
        "outputId": "f22d1077-cd59-4377-8ea0-f7b7a6b7382a"
      },
      "source": [
        "# Le decimos que es un objeto con los que trabaja mat plot\n",
        "visual_train = plt\n",
        "# Hacemos la gráfica de los datos\n",
        "visual_train.scatter(X_test, Y_test, color = '#EE80FF')\n",
        "# Le decimos que trace una línea con los datos de entrenamiento y la predicción del modelo de color negro\n",
        "visual_train.plot(X_train, regression.predict(X_train), color ='black')\n",
        "# Le agregamos su información a la gráfica\n",
        "visual_train.title('Validación del modelo')\n",
        "visual_train.xlabel('Experiencia')\n",
        "visual_train.ylabel('Salario')\n",
        "visual_train.show()"
      ],
      "execution_count": 12,
      "outputs": [
        {
          "output_type": "display_data",
          "data": {
            "image/png": "[encoded data removed]",
            "text/plain": [
              "<Figure size 432x288 with 1 Axes>"
            ]
          },
          "metadata": {
            "tags": [],
            "needs_background": "light"
          }
        }
      ]
    },
    {
      "cell_type": "markdown",
      "metadata": {
        "id": "zTSzQrGh1viT"
      },
      "source": [
        "### Revisando el score del entrenamiento y de las predicciones."
      ]
    },
    {
      "cell_type": "code",
      "metadata": {
        "colab": {
          "base_uri": "https://localhost:8080/"
        },
        "id": "joOD3gWVxIwX",
        "outputId": "ce0bcede-c201-4992-f4ab-6c643c3c6ad8"
      },
      "source": [
        "regression.score(X_train, Y_train)"
      ],
      "execution_count": 14,
      "outputs": [
        {
          "output_type": "execute_result",
          "data": {
            "text/plain": [
              "0.9565839912115904"
            ]
          },
          "metadata": {
            "tags": []
          },
          "execution_count": 14
        }
      ]
    },
    {
      "cell_type": "code",
      "metadata": {
        "colab": {
          "base_uri": "https://localhost:8080/"
        },
        "id": "LsioaY7CxLR0",
        "outputId": "2b873564-0000-4a8e-d7c5-2f03390e6dbd"
      },
      "source": [
        "regression.score(X_test, Y_test)"
      ],
      "execution_count": 15,
      "outputs": [
        {
          "output_type": "execute_result",
          "data": {
            "text/plain": [
              "0.7862437374732997"
            ]
          },
          "metadata": {
            "tags": []
          },
          "execution_count": 15
        }
      ]
    },
    {
      "cell_type": "markdown",
      "metadata": {
        "id": "_24sBHHdxPAo"
      },
      "source": [
        "Tenemos algo de sobre ajuste."
      ]
    },
    {
      "cell_type": "markdown",
      "metadata": {
        "id": "o17B4KHQxSUt"
      },
      "source": [
        "---"
      ]
    }
  ]
}